{
 "cells": [
  {
   "cell_type": "code",
   "execution_count": null,
   "id": "5a0697f7-dbf4-4ffb-803b-72a2e949fe65",
   "metadata": {},
   "outputs": [],
   "source": [
    "## 0.Question  \n",
    "\n",
    "- Use this dataset: ` https://github.com/erkansirin78/datasets/raw/master/dirty_store_transactions.csv ` \n",
    "do the following tasks:\n",
    "\n",
    "### 1. \n",
    "Clean data\n",
    "\n",
    "### 2. \n",
    "Write clean data to hive  `test1.clean_transactions`, format should be orc.\n",
    "\n",
    "### 3. \n",
    "Write clean data to Postgresql `traindb.public.clean_transactions`. \n",
    "\n",
    "### 4. \n",
    "Write clean data to hdfs `/user/train/spark_odev_transaction` in parquet format.\n"
   ]
  },
  {
   "cell_type": "code",
   "execution_count": null,
   "id": "db85a135-aee7-4674-b3d4-ab7c99709f1c",
   "metadata": {},
   "outputs": [],
   "source": [
    "### 1. Start Jupter Lab\n",
    "\n",
    "```\n",
    "[train@trainvm ~]$ source ~/venvspark/bin/activate\n",
    "```\n",
    "\n",
    "```\n",
    "[train@trainvm ~]$ jupyter lab\n",
    "```\n",
    "\n",
    "### 2. Start Hadoop services\n",
    "\n",
    "```\n",
    "[train@trainvm ~]$ start-all.sh\n",
    "```\n"
   ]
  },
  {
   "cell_type": "code",
   "execution_count": 96,
   "id": "0edf5275-211a-4d6e-8223-1832768584d2",
   "metadata": {
    "tags": []
   },
   "outputs": [],
   "source": [
    "import findspark\n",
    "import configparser\n",
    "from pyspark.sql import SparkSession,functions as F\n",
    "from pyspark.sql.functions import *\n",
    "from pyspark.sql.functions import regexp_replace\n",
    "from pyspark.sql.types import *"
   ]
  },
  {
   "cell_type": "code",
   "execution_count": 97,
   "id": "89126ecb-87c8-4b2a-be49-84c2deeb2522",
   "metadata": {
    "tags": []
   },
   "outputs": [],
   "source": [
    "findspark.init(\"/opt/manual/spark\")"
   ]
  },
  {
   "cell_type": "code",
   "execution_count": 98,
   "id": "55edb4a2-4952-4e7c-b435-26e061e572a4",
   "metadata": {
    "tags": []
   },
   "outputs": [],
   "source": [
    "spark = (SparkSession.builder \n",
    "         .appName(\"homework3\") \n",
    "         .master(\"yarn\") \n",
    "         .enableHiveSupport() \n",
    "         .getOrCreate()\n",
    ")"
   ]
  },
  {
   "cell_type": "code",
   "execution_count": 99,
   "id": "39de5305-238b-4d9b-84c0-4220ee834a81",
   "metadata": {
    "tags": []
   },
   "outputs": [
    {
     "data": {
      "text/plain": [
       "'\\n[train@trainvm ~]$ ls\\n\\n[train@trainvm ~]$ cd datasets\\n\\n[train@trainvm datasets]$ ls\\n\\n\\n'"
      ]
     },
     "execution_count": 99,
     "metadata": {},
     "output_type": "execute_result"
    }
   ],
   "source": [
    "'''\n",
    "[train@trainvm ~]$ ls\n",
    "\n",
    "[train@trainvm ~]$ cd datasets\n",
    "\n",
    "[train@trainvm datasets]$ ls\n",
    "\n",
    "'''"
   ]
  },
  {
   "cell_type": "code",
   "execution_count": 100,
   "id": "728464fa-1d74-44ba-a08d-c81dbcb57187",
   "metadata": {
    "tags": []
   },
   "outputs": [
    {
     "name": "stdout",
     "output_type": "stream",
     "text": [
      "--2023-04-03 16:47:04--  https://github.com/erkansirin78/datasets/raw/master/dirty_store_transactions.csv\n",
      "Resolving github.com (github.com)... 140.82.121.4\n",
      "Connecting to github.com (github.com)|140.82.121.4|:443... connected.\n",
      "HTTP request sent, awaiting response... 302 Found\n",
      "Location: https://raw.githubusercontent.com/erkansirin78/datasets/master/dirty_store_transactions.csv [following]\n",
      "--2023-04-03 16:47:05--  https://raw.githubusercontent.com/erkansirin78/datasets/master/dirty_store_transactions.csv\n",
      "Resolving raw.githubusercontent.com (raw.githubusercontent.com)... 185.199.109.133, 185.199.111.133, 185.199.108.133, ...\n",
      "Connecting to raw.githubusercontent.com (raw.githubusercontent.com)|185.199.109.133|:443... connected.\n",
      "HTTP request sent, awaiting response... 200 OK\n",
      "Length: 2609524 (2.5M) [text/plain]\n",
      "Saving to: ‘/home/train/datasets/dirty_store_transactions.csv’\n",
      "\n",
      "100%[======================================>] 2,609,524   2.54MB/s   in 1.0s   \n",
      "\n",
      "2023-04-03 16:47:06 (2.54 MB/s) - ‘/home/train/datasets/dirty_store_transactions.csv’ saved [2609524/2609524]\n",
      "\n"
     ]
    }
   ],
   "source": [
    "! wget -P /home/train/datasets/ https://github.com/erkansirin78/datasets/raw/master/dirty_store_transactions.csv "
   ]
  },
  {
   "cell_type": "code",
   "execution_count": 101,
   "id": "a256778f-afea-4c7d-af9e-f26421b768dc",
   "metadata": {
    "tags": []
   },
   "outputs": [],
   "source": [
    "df = spark.read \\\n",
    "     .format(\"csv\") \\\n",
    "     .option(\"header\", True) \\\n",
    "     .option(\"sep\", \",\") \\\n",
    "     .option(\"inferSchema\", True) \\\n",
    "     .load(\"file:///home/train/datasets/dirty_store_transactions.csv\")"
   ]
  },
  {
   "cell_type": "code",
   "execution_count": 102,
   "id": "4248cebd-81f6-4f1a-8625-d56f5211a93a",
   "metadata": {
    "tags": []
   },
   "outputs": [
    {
     "name": "stdout",
     "output_type": "stream",
     "text": [
      "+--------+--------------+----------------+----------+---+------+--------+------+----------+\n",
      "|STORE_ID|STORE_LOCATION|PRODUCT_CATEGORY|PRODUCT_ID|MRP|    CP|DISCOUNT|    SP|      Date|\n",
      "+--------+--------------+----------------+----------+---+------+--------+------+----------+\n",
      "|  YR7220|     New York(|     Electronics|  12254943|$31|$20.77|   $1.86|$29.14|2019-11-26|\n",
      "|  YR7220|     New York+|       Furniture| 72619323C|$15| $9.75|    $1.5| $13.5|2019-11-26|\n",
      "|  YR7220|     New York |     Electronics| 34161682B|$88|$62.48|    $4.4| $83.6|2019-11-26|\n",
      "|  YR7220|     New York!|         Kitchen|  79411621|$91|$58.24|   $3.64|$87.36|2019-11-26|\n",
      "|  YR7220|      New York|         Fashion| 39520263T|$85|   $51|   $2.55|$82.45|2019-11-26|\n",
      "+--------+--------------+----------------+----------+---+------+--------+------+----------+\n",
      "only showing top 5 rows\n",
      "\n"
     ]
    }
   ],
   "source": [
    "df.show(5)"
   ]
  },
  {
   "cell_type": "code",
   "execution_count": 103,
   "id": "c517ae7c-f132-44ab-80a2-d4ab7ce3664c",
   "metadata": {
    "tags": []
   },
   "outputs": [
    {
     "data": {
      "text/html": [
       "<div>\n",
       "<style scoped>\n",
       "    .dataframe tbody tr th:only-of-type {\n",
       "        vertical-align: middle;\n",
       "    }\n",
       "\n",
       "    .dataframe tbody tr th {\n",
       "        vertical-align: top;\n",
       "    }\n",
       "\n",
       "    .dataframe thead th {\n",
       "        text-align: right;\n",
       "    }\n",
       "</style>\n",
       "<table border=\"1\" class=\"dataframe\">\n",
       "  <thead>\n",
       "    <tr style=\"text-align: right;\">\n",
       "      <th></th>\n",
       "      <th>STORE_ID</th>\n",
       "      <th>STORE_LOCATION</th>\n",
       "      <th>PRODUCT_CATEGORY</th>\n",
       "      <th>PRODUCT_ID</th>\n",
       "      <th>MRP</th>\n",
       "      <th>CP</th>\n",
       "      <th>DISCOUNT</th>\n",
       "      <th>SP</th>\n",
       "      <th>Date</th>\n",
       "    </tr>\n",
       "  </thead>\n",
       "  <tbody>\n",
       "    <tr>\n",
       "      <th>0</th>\n",
       "      <td>YR7220</td>\n",
       "      <td>New York(</td>\n",
       "      <td>Electronics</td>\n",
       "      <td>12254943</td>\n",
       "      <td>$31</td>\n",
       "      <td>$20.77</td>\n",
       "      <td>$1.86</td>\n",
       "      <td>$29.14</td>\n",
       "      <td>2019-11-26</td>\n",
       "    </tr>\n",
       "    <tr>\n",
       "      <th>1</th>\n",
       "      <td>YR7220</td>\n",
       "      <td>New York+</td>\n",
       "      <td>Furniture</td>\n",
       "      <td>72619323C</td>\n",
       "      <td>$15</td>\n",
       "      <td>$9.75</td>\n",
       "      <td>$1.5</td>\n",
       "      <td>$13.5</td>\n",
       "      <td>2019-11-26</td>\n",
       "    </tr>\n",
       "    <tr>\n",
       "      <th>2</th>\n",
       "      <td>YR7220</td>\n",
       "      <td>New York</td>\n",
       "      <td>Electronics</td>\n",
       "      <td>34161682B</td>\n",
       "      <td>$88</td>\n",
       "      <td>$62.48</td>\n",
       "      <td>$4.4</td>\n",
       "      <td>$83.6</td>\n",
       "      <td>2019-11-26</td>\n",
       "    </tr>\n",
       "    <tr>\n",
       "      <th>3</th>\n",
       "      <td>YR7220</td>\n",
       "      <td>New York!</td>\n",
       "      <td>Kitchen</td>\n",
       "      <td>79411621</td>\n",
       "      <td>$91</td>\n",
       "      <td>$58.24</td>\n",
       "      <td>$3.64</td>\n",
       "      <td>$87.36</td>\n",
       "      <td>2019-11-26</td>\n",
       "    </tr>\n",
       "    <tr>\n",
       "      <th>4</th>\n",
       "      <td>YR7220</td>\n",
       "      <td>New York</td>\n",
       "      <td>Fashion</td>\n",
       "      <td>39520263T</td>\n",
       "      <td>$85</td>\n",
       "      <td>$51</td>\n",
       "      <td>$2.55</td>\n",
       "      <td>$82.45</td>\n",
       "      <td>2019-11-26</td>\n",
       "    </tr>\n",
       "  </tbody>\n",
       "</table>\n",
       "</div>"
      ],
      "text/plain": [
       "  STORE_ID STORE_LOCATION PRODUCT_CATEGORY PRODUCT_ID  MRP      CP DISCOUNT  \\\n",
       "0   YR7220      New York(      Electronics   12254943  $31  $20.77    $1.86   \n",
       "1   YR7220      New York+        Furniture  72619323C  $15   $9.75     $1.5   \n",
       "2   YR7220      New York       Electronics  34161682B  $88  $62.48     $4.4   \n",
       "3   YR7220      New York!          Kitchen   79411621  $91  $58.24    $3.64   \n",
       "4   YR7220       New York          Fashion  39520263T  $85     $51    $2.55   \n",
       "\n",
       "       SP        Date  \n",
       "0  $29.14  2019-11-26  \n",
       "1   $13.5  2019-11-26  \n",
       "2   $83.6  2019-11-26  \n",
       "3  $87.36  2019-11-26  \n",
       "4  $82.45  2019-11-26  "
      ]
     },
     "execution_count": 103,
     "metadata": {},
     "output_type": "execute_result"
    }
   ],
   "source": [
    "df.limit(5).toPandas()"
   ]
  },
  {
   "cell_type": "code",
   "execution_count": 104,
   "id": "be74b6a5-d815-4082-84b0-fa388d2315b6",
   "metadata": {
    "tags": []
   },
   "outputs": [
    {
     "name": "stderr",
     "output_type": "stream",
     "text": [
      "                                                                                \r"
     ]
    },
    {
     "data": {
      "text/plain": [
       "[Row(STORE_LOCATION=\"Miami'\"),\n",
       " Row(STORE_LOCATION='New York\"\"'),\n",
       " Row(STORE_LOCATION='Washington\"\"'),\n",
       " Row(STORE_LOCATION='Miami)'),\n",
       " Row(STORE_LOCATION='Houston%'),\n",
       " Row(STORE_LOCATION='Miami&'),\n",
       " Row(STORE_LOCATION='Houston$'),\n",
       " Row(STORE_LOCATION='New York$'),\n",
       " Row(STORE_LOCATION=\"New York'\"),\n",
       " Row(STORE_LOCATION='New York+'),\n",
       " Row(STORE_LOCATION='New York('),\n",
       " Row(STORE_LOCATION='New York!'),\n",
       " Row(STORE_LOCATION='Miami#'),\n",
       " Row(STORE_LOCATION='Houston*'),\n",
       " Row(STORE_LOCATION='New York '),\n",
       " Row(STORE_LOCATION='New York&'),\n",
       " Row(STORE_LOCATION='Miami$'),\n",
       " Row(STORE_LOCATION='Denver$'),\n",
       " Row(STORE_LOCATION=\"Houston'\"),\n",
       " Row(STORE_LOCATION='Denver+'),\n",
       " Row(STORE_LOCATION='Houston('),\n",
       " Row(STORE_LOCATION='Washington'),\n",
       " Row(STORE_LOCATION='New York)'),\n",
       " Row(STORE_LOCATION='Houston)'),\n",
       " Row(STORE_LOCATION=\"Denver'\"),\n",
       " Row(STORE_LOCATION='Miami%'),\n",
       " Row(STORE_LOCATION='Miami '),\n",
       " Row(STORE_LOCATION='Washington$'),\n",
       " Row(STORE_LOCATION='Denver*'),\n",
       " Row(STORE_LOCATION='Miami+'),\n",
       " Row(STORE_LOCATION='Washington#'),\n",
       " Row(STORE_LOCATION='Houston\"\"'),\n",
       " Row(STORE_LOCATION='Washington '),\n",
       " Row(STORE_LOCATION='New York#'),\n",
       " Row(STORE_LOCATION='Denver&'),\n",
       " Row(STORE_LOCATION='Houston!'),\n",
       " Row(STORE_LOCATION='Washington+'),\n",
       " Row(STORE_LOCATION='Miami\"\"'),\n",
       " Row(STORE_LOCATION='Denver%'),\n",
       " Row(STORE_LOCATION='New York*'),\n",
       " Row(STORE_LOCATION='Houston#'),\n",
       " Row(STORE_LOCATION='Miami('),\n",
       " Row(STORE_LOCATION='Miami*'),\n",
       " Row(STORE_LOCATION='Denver('),\n",
       " Row(STORE_LOCATION='New York%'),\n",
       " Row(STORE_LOCATION='Miami!'),\n",
       " Row(STORE_LOCATION='Washington)'),\n",
       " Row(STORE_LOCATION='Washington%'),\n",
       " Row(STORE_LOCATION='Denver#'),\n",
       " Row(STORE_LOCATION='Houston'),\n",
       " Row(STORE_LOCATION='Denver)'),\n",
       " Row(STORE_LOCATION=\"Washington'\"),\n",
       " Row(STORE_LOCATION='Washington*'),\n",
       " Row(STORE_LOCATION='Houston '),\n",
       " Row(STORE_LOCATION='Washington('),\n",
       " Row(STORE_LOCATION='Denver!'),\n",
       " Row(STORE_LOCATION='Denver\"\"'),\n",
       " Row(STORE_LOCATION='Washington&'),\n",
       " Row(STORE_LOCATION='Miami'),\n",
       " Row(STORE_LOCATION='Houston+'),\n",
       " Row(STORE_LOCATION='Washington!'),\n",
       " Row(STORE_LOCATION='New York'),\n",
       " Row(STORE_LOCATION='Houston&'),\n",
       " Row(STORE_LOCATION='Denver '),\n",
       " Row(STORE_LOCATION='Denver')]"
      ]
     },
     "execution_count": 104,
     "metadata": {},
     "output_type": "execute_result"
    }
   ],
   "source": [
    "df.select('STORE_LOCATION').distinct().collect()"
   ]
  },
  {
   "cell_type": "code",
   "execution_count": 105,
   "id": "950d1c2b-38f7-4181-9ce5-265734b4582c",
   "metadata": {
    "tags": []
   },
   "outputs": [],
   "source": [
    "df2 = df.withColumn(\"MRP\",F.regexp_replace(F.col(\"MRP\"),\"\\$\",\"\").cast(IntegerType())) \\\n",
    "        .withColumn(\"CP\",F.regexp_replace(F.col(\"CP\"),\"\\$\", \"\").cast(FloatType())) \\\n",
    "        .withColumn(\"DISCOUNT\", F.regexp_replace(F.col(\"DISCOUNT\"), \"\\$\", \"\").cast(FloatType())) \\\n",
    "        .withColumn(\"SP\",F.regexp_replace(F.col(\"SP\"),\"\\$\", \"\").cast(FloatType())) \\\n",
    "        .withColumn(\"Date\",F.to_date(F.col(\"Date\"), \"yyyy-MM-dd\")) \\\n",
    "        .withColumn(\"STORE_LOCATION\",F.regexp_replace(F.col(\"STORE_LOCATION\"),\"[^A-Z a-z]\",\"\")) \\\n",
    "        .withColumn(\"PRODUCT_ID\", F.regexp_replace(F.col(\"PRODUCT_ID\"),\"[^0-9]\",\"\").cast(IntegerType()))"
   ]
  },
  {
   "cell_type": "code",
   "execution_count": 106,
   "id": "07b5a7ac-7a80-45e8-9756-f56d80f4e047",
   "metadata": {
    "tags": []
   },
   "outputs": [
    {
     "data": {
      "text/html": [
       "<div>\n",
       "<style scoped>\n",
       "    .dataframe tbody tr th:only-of-type {\n",
       "        vertical-align: middle;\n",
       "    }\n",
       "\n",
       "    .dataframe tbody tr th {\n",
       "        vertical-align: top;\n",
       "    }\n",
       "\n",
       "    .dataframe thead th {\n",
       "        text-align: right;\n",
       "    }\n",
       "</style>\n",
       "<table border=\"1\" class=\"dataframe\">\n",
       "  <thead>\n",
       "    <tr style=\"text-align: right;\">\n",
       "      <th></th>\n",
       "      <th>STORE_ID</th>\n",
       "      <th>STORE_LOCATION</th>\n",
       "      <th>PRODUCT_CATEGORY</th>\n",
       "      <th>PRODUCT_ID</th>\n",
       "      <th>MRP</th>\n",
       "      <th>CP</th>\n",
       "      <th>DISCOUNT</th>\n",
       "      <th>SP</th>\n",
       "      <th>Date</th>\n",
       "    </tr>\n",
       "  </thead>\n",
       "  <tbody>\n",
       "    <tr>\n",
       "      <th>0</th>\n",
       "      <td>YR7220</td>\n",
       "      <td>New York</td>\n",
       "      <td>Electronics</td>\n",
       "      <td>12254943</td>\n",
       "      <td>31</td>\n",
       "      <td>20.770000</td>\n",
       "      <td>1.86</td>\n",
       "      <td>29.139999</td>\n",
       "      <td>2019-11-26</td>\n",
       "    </tr>\n",
       "    <tr>\n",
       "      <th>1</th>\n",
       "      <td>YR7220</td>\n",
       "      <td>New York</td>\n",
       "      <td>Furniture</td>\n",
       "      <td>72619323</td>\n",
       "      <td>15</td>\n",
       "      <td>9.750000</td>\n",
       "      <td>1.50</td>\n",
       "      <td>13.500000</td>\n",
       "      <td>2019-11-26</td>\n",
       "    </tr>\n",
       "    <tr>\n",
       "      <th>2</th>\n",
       "      <td>YR7220</td>\n",
       "      <td>New York</td>\n",
       "      <td>Electronics</td>\n",
       "      <td>34161682</td>\n",
       "      <td>88</td>\n",
       "      <td>62.480000</td>\n",
       "      <td>4.40</td>\n",
       "      <td>83.599998</td>\n",
       "      <td>2019-11-26</td>\n",
       "    </tr>\n",
       "    <tr>\n",
       "      <th>3</th>\n",
       "      <td>YR7220</td>\n",
       "      <td>New York</td>\n",
       "      <td>Kitchen</td>\n",
       "      <td>79411621</td>\n",
       "      <td>91</td>\n",
       "      <td>58.240002</td>\n",
       "      <td>3.64</td>\n",
       "      <td>87.360001</td>\n",
       "      <td>2019-11-26</td>\n",
       "    </tr>\n",
       "    <tr>\n",
       "      <th>4</th>\n",
       "      <td>YR7220</td>\n",
       "      <td>New York</td>\n",
       "      <td>Fashion</td>\n",
       "      <td>39520263</td>\n",
       "      <td>85</td>\n",
       "      <td>51.000000</td>\n",
       "      <td>2.55</td>\n",
       "      <td>82.449997</td>\n",
       "      <td>2019-11-26</td>\n",
       "    </tr>\n",
       "  </tbody>\n",
       "</table>\n",
       "</div>"
      ],
      "text/plain": [
       "  STORE_ID STORE_LOCATION PRODUCT_CATEGORY  PRODUCT_ID  MRP         CP  \\\n",
       "0   YR7220       New York      Electronics    12254943   31  20.770000   \n",
       "1   YR7220       New York        Furniture    72619323   15   9.750000   \n",
       "2   YR7220      New York       Electronics    34161682   88  62.480000   \n",
       "3   YR7220       New York          Kitchen    79411621   91  58.240002   \n",
       "4   YR7220       New York          Fashion    39520263   85  51.000000   \n",
       "\n",
       "   DISCOUNT         SP        Date  \n",
       "0      1.86  29.139999  2019-11-26  \n",
       "1      1.50  13.500000  2019-11-26  \n",
       "2      4.40  83.599998  2019-11-26  \n",
       "3      3.64  87.360001  2019-11-26  \n",
       "4      2.55  82.449997  2019-11-26  "
      ]
     },
     "execution_count": 106,
     "metadata": {},
     "output_type": "execute_result"
    }
   ],
   "source": [
    "df2.limit(5).toPandas()"
   ]
  },
  {
   "cell_type": "code",
   "execution_count": 107,
   "id": "489a56a2-4133-4dc0-bf3e-6e656a0eb899",
   "metadata": {
    "tags": []
   },
   "outputs": [
    {
     "name": "stdout",
     "output_type": "stream",
     "text": [
      "root\n",
      " |-- STORE_ID: string (nullable = true)\n",
      " |-- STORE_LOCATION: string (nullable = true)\n",
      " |-- PRODUCT_CATEGORY: string (nullable = true)\n",
      " |-- PRODUCT_ID: integer (nullable = true)\n",
      " |-- MRP: integer (nullable = true)\n",
      " |-- CP: float (nullable = true)\n",
      " |-- DISCOUNT: float (nullable = true)\n",
      " |-- SP: float (nullable = true)\n",
      " |-- Date: date (nullable = true)\n",
      "\n"
     ]
    }
   ],
   "source": [
    "df2.printSchema()"
   ]
  },
  {
   "cell_type": "code",
   "execution_count": null,
   "id": "ad0a2ebe-35d1-4c41-9f6f-03141be807e6",
   "metadata": {},
   "outputs": [],
   "source": [
    "## Q2"
   ]
  },
  {
   "cell_type": "code",
   "execution_count": 109,
   "id": "a94b5dab-856a-4364-9abd-6f85a5ebe2f3",
   "metadata": {
    "tags": []
   },
   "outputs": [
    {
     "name": "stdout",
     "output_type": "stream",
     "text": [
      "+---------+\n",
      "|namespace|\n",
      "+---------+\n",
      "|  default|\n",
      "+---------+\n",
      "\n"
     ]
    }
   ],
   "source": [
    "spark.sql(\"show databases;\").show()"
   ]
  },
  {
   "cell_type": "code",
   "execution_count": 116,
   "id": "b7395ab7-ef62-4e58-a65a-ddae94e165ff",
   "metadata": {
    "tags": []
   },
   "outputs": [
    {
     "data": {
      "text/plain": [
       "DataFrame[]"
      ]
     },
     "execution_count": 116,
     "metadata": {},
     "output_type": "execute_result"
    }
   ],
   "source": [
    "spark.sql(\"create database if not exists test1;\")"
   ]
  },
  {
   "cell_type": "code",
   "execution_count": 118,
   "id": "2ceea802-db36-4043-99ae-8e196abc7e32",
   "metadata": {
    "tags": []
   },
   "outputs": [
    {
     "name": "stdout",
     "output_type": "stream",
     "text": [
      "+---------+\n",
      "|namespace|\n",
      "+---------+\n",
      "|  default|\n",
      "|    test1|\n",
      "+---------+\n",
      "\n"
     ]
    }
   ],
   "source": [
    "spark.sql(\"show databases;\").show()"
   ]
  },
  {
   "cell_type": "code",
   "execution_count": 117,
   "id": "8e382dcd-8ee9-4e22-a216-5321f9d775a1",
   "metadata": {
    "tags": []
   },
   "outputs": [
    {
     "data": {
      "text/plain": [
       "DataFrame[]"
      ]
     },
     "execution_count": 117,
     "metadata": {},
     "output_type": "execute_result"
    }
   ],
   "source": [
    "spark.sql(\"use test1;\")"
   ]
  },
  {
   "cell_type": "code",
   "execution_count": 130,
   "id": "9670c9bd-46f8-4bfe-98a1-304a950235b0",
   "metadata": {
    "tags": []
   },
   "outputs": [
    {
     "name": "stderr",
     "output_type": "stream",
     "text": [
      "                                                                                \r"
     ]
    }
   ],
   "source": [
    "df2.write.format(\"orc\") \\\n",
    ".mode(\"overwrite\") \\\n",
    ".saveAsTable(\"test1.clean_transactions\")"
   ]
  },
  {
   "cell_type": "code",
   "execution_count": null,
   "id": "151a465d-dad6-4008-bb2d-ca24dad15b83",
   "metadata": {},
   "outputs": [],
   "source": [
    "/user/hive/warehouse/test1.db/clean_transactions"
   ]
  },
  {
   "cell_type": "code",
   "execution_count": 131,
   "id": "09cd4d57-a454-4cd1-a4fe-5427bf2e1671",
   "metadata": {
    "tags": []
   },
   "outputs": [
    {
     "data": {
      "text/html": [
       "<div>\n",
       "<style scoped>\n",
       "    .dataframe tbody tr th:only-of-type {\n",
       "        vertical-align: middle;\n",
       "    }\n",
       "\n",
       "    .dataframe tbody tr th {\n",
       "        vertical-align: top;\n",
       "    }\n",
       "\n",
       "    .dataframe thead th {\n",
       "        text-align: right;\n",
       "    }\n",
       "</style>\n",
       "<table border=\"1\" class=\"dataframe\">\n",
       "  <thead>\n",
       "    <tr style=\"text-align: right;\">\n",
       "      <th></th>\n",
       "      <th>STORE_ID</th>\n",
       "      <th>STORE_LOCATION</th>\n",
       "      <th>PRODUCT_CATEGORY</th>\n",
       "      <th>PRODUCT_ID</th>\n",
       "      <th>MRP</th>\n",
       "      <th>CP</th>\n",
       "      <th>DISCOUNT</th>\n",
       "      <th>SP</th>\n",
       "      <th>Date</th>\n",
       "    </tr>\n",
       "  </thead>\n",
       "  <tbody>\n",
       "    <tr>\n",
       "      <th>0</th>\n",
       "      <td>YR7220</td>\n",
       "      <td>New York</td>\n",
       "      <td>Electronics</td>\n",
       "      <td>12254943</td>\n",
       "      <td>31</td>\n",
       "      <td>20.770000</td>\n",
       "      <td>1.86</td>\n",
       "      <td>29.139999</td>\n",
       "      <td>2019-11-26</td>\n",
       "    </tr>\n",
       "    <tr>\n",
       "      <th>1</th>\n",
       "      <td>YR7220</td>\n",
       "      <td>New York</td>\n",
       "      <td>Furniture</td>\n",
       "      <td>72619323</td>\n",
       "      <td>15</td>\n",
       "      <td>9.750000</td>\n",
       "      <td>1.50</td>\n",
       "      <td>13.500000</td>\n",
       "      <td>2019-11-26</td>\n",
       "    </tr>\n",
       "    <tr>\n",
       "      <th>2</th>\n",
       "      <td>YR7220</td>\n",
       "      <td>New York</td>\n",
       "      <td>Electronics</td>\n",
       "      <td>34161682</td>\n",
       "      <td>88</td>\n",
       "      <td>62.480000</td>\n",
       "      <td>4.40</td>\n",
       "      <td>83.599998</td>\n",
       "      <td>2019-11-26</td>\n",
       "    </tr>\n",
       "    <tr>\n",
       "      <th>3</th>\n",
       "      <td>YR7220</td>\n",
       "      <td>New York</td>\n",
       "      <td>Kitchen</td>\n",
       "      <td>79411621</td>\n",
       "      <td>91</td>\n",
       "      <td>58.240002</td>\n",
       "      <td>3.64</td>\n",
       "      <td>87.360001</td>\n",
       "      <td>2019-11-26</td>\n",
       "    </tr>\n",
       "    <tr>\n",
       "      <th>4</th>\n",
       "      <td>YR7220</td>\n",
       "      <td>New York</td>\n",
       "      <td>Fashion</td>\n",
       "      <td>39520263</td>\n",
       "      <td>85</td>\n",
       "      <td>51.000000</td>\n",
       "      <td>2.55</td>\n",
       "      <td>82.449997</td>\n",
       "      <td>2019-11-26</td>\n",
       "    </tr>\n",
       "  </tbody>\n",
       "</table>\n",
       "</div>"
      ],
      "text/plain": [
       "  STORE_ID STORE_LOCATION PRODUCT_CATEGORY  PRODUCT_ID  MRP         CP  \\\n",
       "0   YR7220       New York      Electronics    12254943   31  20.770000   \n",
       "1   YR7220       New York        Furniture    72619323   15   9.750000   \n",
       "2   YR7220      New York       Electronics    34161682   88  62.480000   \n",
       "3   YR7220       New York          Kitchen    79411621   91  58.240002   \n",
       "4   YR7220       New York          Fashion    39520263   85  51.000000   \n",
       "\n",
       "   DISCOUNT         SP        Date  \n",
       "0      1.86  29.139999  2019-11-26  \n",
       "1      1.50  13.500000  2019-11-26  \n",
       "2      4.40  83.599998  2019-11-26  \n",
       "3      3.64  87.360001  2019-11-26  \n",
       "4      2.55  82.449997  2019-11-26  "
      ]
     },
     "execution_count": 131,
     "metadata": {},
     "output_type": "execute_result"
    }
   ],
   "source": [
    "spark.sql(\"select * from test1.clean_transactions\").limit(5).toPandas()"
   ]
  },
  {
   "cell_type": "code",
   "execution_count": 133,
   "id": "582a9d5a-86c6-498a-9812-585063565ed9",
   "metadata": {
    "tags": []
   },
   "outputs": [
    {
     "name": "stdout",
     "output_type": "stream",
     "text": [
      "Found 5 items\n",
      "drwxr-xr-x   - train hive          0 2023-01-31 14:23 /user/hive/warehouse/test1.db/adv_lk\n",
      "drwxr-xr-x   - train hive          0 2023-01-31 14:16 /user/hive/warehouse/test1.db/advertising\n",
      "drwxr-xr-x   - train hive          0 2023-01-31 14:50 /user/hive/warehouse/test1.db/advertising_sales_gt_20\n",
      "drwxr-xr-x   - train hive          0 2023-04-03 17:18 /user/hive/warehouse/test1.db/clean_transactions\n",
      "drwxr-xr-x   - train hive          0 2023-01-31 14:11 /user/hive/warehouse/test1.db/mytable\n"
     ]
    }
   ],
   "source": [
    "! hdfs dfs -ls /user/hive/warehouse/test1.db/"
   ]
  },
  {
   "cell_type": "code",
   "execution_count": null,
   "id": "e424ba1f-4640-4199-82ef-4a0ce963af5a",
   "metadata": {},
   "outputs": [],
   "source": [
    "# Q3"
   ]
  },
  {
   "cell_type": "code",
   "execution_count": 137,
   "id": "7e177e1d-a65a-4cb2-8e34-2172d7dd6bd0",
   "metadata": {
    "tags": []
   },
   "outputs": [],
   "source": [
    "config = configparser.RawConfigParser()\n",
    "\n",
    "config.read(\"./db_conn\")\n",
    "user_name = config.get('DB', 'user_name')\n",
    "password = config.get('DB', 'password')\n",
    "db_ip = config.get('DB', 'db_ip')"
   ]
  },
  {
   "cell_type": "code",
   "execution_count": 139,
   "id": "fe1295b8-7d87-4efd-a920-3cf1578547eb",
   "metadata": {
    "tags": []
   },
   "outputs": [
    {
     "name": "stderr",
     "output_type": "stream",
     "text": [
      "                                                                                \r"
     ]
    }
   ],
   "source": [
    "df2.write.format(\"jdbc\") \\\n",
    "   .mode(\"overwrite\") \\\n",
    "   .option(\"driver\", \"org.postgresql.Driver\") \\\n",
    "   .option(\"url\", f\"jdbc:postgresql://{db_ip}:5432/traindb\") \\\n",
    "   .option(\"user\", user_name) \\\n",
    "   .option(\"password\", password) \\\n",
    "   .option(\"dbtable\", \"clean_transactions\") \\\n",
    "   .save()"
   ]
  },
  {
   "cell_type": "code",
   "execution_count": 143,
   "id": "9821daed-17e0-4e2e-a208-c80509c63cba",
   "metadata": {
    "tags": []
   },
   "outputs": [
    {
     "name": "stderr",
     "output_type": "stream",
     "text": [
      "                                                                                \r"
     ]
    },
    {
     "data": {
      "text/html": [
       "<div>\n",
       "<style scoped>\n",
       "    .dataframe tbody tr th:only-of-type {\n",
       "        vertical-align: middle;\n",
       "    }\n",
       "\n",
       "    .dataframe tbody tr th {\n",
       "        vertical-align: top;\n",
       "    }\n",
       "\n",
       "    .dataframe thead th {\n",
       "        text-align: right;\n",
       "    }\n",
       "</style>\n",
       "<table border=\"1\" class=\"dataframe\">\n",
       "  <thead>\n",
       "    <tr style=\"text-align: right;\">\n",
       "      <th></th>\n",
       "      <th>STORE_ID</th>\n",
       "      <th>STORE_LOCATION</th>\n",
       "      <th>PRODUCT_CATEGORY</th>\n",
       "      <th>PRODUCT_ID</th>\n",
       "      <th>MRP</th>\n",
       "      <th>CP</th>\n",
       "      <th>DISCOUNT</th>\n",
       "      <th>SP</th>\n",
       "      <th>Date</th>\n",
       "    </tr>\n",
       "  </thead>\n",
       "  <tbody>\n",
       "    <tr>\n",
       "      <th>0</th>\n",
       "      <td>YR7220</td>\n",
       "      <td>New York</td>\n",
       "      <td>Electronics</td>\n",
       "      <td>12254943</td>\n",
       "      <td>31</td>\n",
       "      <td>20.770000</td>\n",
       "      <td>1.86</td>\n",
       "      <td>29.139999</td>\n",
       "      <td>2019-11-26</td>\n",
       "    </tr>\n",
       "    <tr>\n",
       "      <th>1</th>\n",
       "      <td>YR7220</td>\n",
       "      <td>New York</td>\n",
       "      <td>Furniture</td>\n",
       "      <td>72619323</td>\n",
       "      <td>15</td>\n",
       "      <td>9.750000</td>\n",
       "      <td>1.50</td>\n",
       "      <td>13.500000</td>\n",
       "      <td>2019-11-26</td>\n",
       "    </tr>\n",
       "    <tr>\n",
       "      <th>2</th>\n",
       "      <td>YR7220</td>\n",
       "      <td>New York</td>\n",
       "      <td>Electronics</td>\n",
       "      <td>34161682</td>\n",
       "      <td>88</td>\n",
       "      <td>62.480000</td>\n",
       "      <td>4.40</td>\n",
       "      <td>83.599998</td>\n",
       "      <td>2019-11-26</td>\n",
       "    </tr>\n",
       "    <tr>\n",
       "      <th>3</th>\n",
       "      <td>YR7220</td>\n",
       "      <td>New York</td>\n",
       "      <td>Kitchen</td>\n",
       "      <td>79411621</td>\n",
       "      <td>91</td>\n",
       "      <td>58.240002</td>\n",
       "      <td>3.64</td>\n",
       "      <td>87.360001</td>\n",
       "      <td>2019-11-26</td>\n",
       "    </tr>\n",
       "    <tr>\n",
       "      <th>4</th>\n",
       "      <td>YR7220</td>\n",
       "      <td>New York</td>\n",
       "      <td>Fashion</td>\n",
       "      <td>39520263</td>\n",
       "      <td>85</td>\n",
       "      <td>51.000000</td>\n",
       "      <td>2.55</td>\n",
       "      <td>82.449997</td>\n",
       "      <td>2019-11-26</td>\n",
       "    </tr>\n",
       "    <tr>\n",
       "      <th>5</th>\n",
       "      <td>YR7220</td>\n",
       "      <td>New York</td>\n",
       "      <td>Kitchen</td>\n",
       "      <td>93809204</td>\n",
       "      <td>37</td>\n",
       "      <td>24.049999</td>\n",
       "      <td>0.74</td>\n",
       "      <td>36.259998</td>\n",
       "      <td>2019-11-26</td>\n",
       "    </tr>\n",
       "    <tr>\n",
       "      <th>6</th>\n",
       "      <td>YR7220</td>\n",
       "      <td>New York</td>\n",
       "      <td>Cosmetics</td>\n",
       "      <td>86610412</td>\n",
       "      <td>80</td>\n",
       "      <td>48.799999</td>\n",
       "      <td>6.40</td>\n",
       "      <td>73.599998</td>\n",
       "      <td>2019-11-26</td>\n",
       "    </tr>\n",
       "    <tr>\n",
       "      <th>7</th>\n",
       "      <td>YR7220</td>\n",
       "      <td>New York</td>\n",
       "      <td>Kitchen</td>\n",
       "      <td>52503356</td>\n",
       "      <td>71</td>\n",
       "      <td>42.599998</td>\n",
       "      <td>5.68</td>\n",
       "      <td>65.320000</td>\n",
       "      <td>2019-11-26</td>\n",
       "    </tr>\n",
       "    <tr>\n",
       "      <th>8</th>\n",
       "      <td>YR7220</td>\n",
       "      <td>New York</td>\n",
       "      <td>Kitchen</td>\n",
       "      <td>77516479</td>\n",
       "      <td>92</td>\n",
       "      <td>56.119999</td>\n",
       "      <td>3.68</td>\n",
       "      <td>88.320000</td>\n",
       "      <td>2019-11-26</td>\n",
       "    </tr>\n",
       "    <tr>\n",
       "      <th>9</th>\n",
       "      <td>YR7220</td>\n",
       "      <td>New York</td>\n",
       "      <td>Cosmetics</td>\n",
       "      <td>47334289</td>\n",
       "      <td>16</td>\n",
       "      <td>10.720000</td>\n",
       "      <td>0.96</td>\n",
       "      <td>15.040000</td>\n",
       "      <td>2019-11-26</td>\n",
       "    </tr>\n",
       "  </tbody>\n",
       "</table>\n",
       "</div>"
      ],
      "text/plain": [
       "  STORE_ID STORE_LOCATION PRODUCT_CATEGORY  PRODUCT_ID  MRP         CP  \\\n",
       "0   YR7220       New York      Electronics    12254943   31  20.770000   \n",
       "1   YR7220       New York        Furniture    72619323   15   9.750000   \n",
       "2   YR7220      New York       Electronics    34161682   88  62.480000   \n",
       "3   YR7220       New York          Kitchen    79411621   91  58.240002   \n",
       "4   YR7220       New York          Fashion    39520263   85  51.000000   \n",
       "5   YR7220       New York          Kitchen    93809204   37  24.049999   \n",
       "6   YR7220       New York        Cosmetics    86610412   80  48.799999   \n",
       "7   YR7220       New York          Kitchen    52503356   71  42.599998   \n",
       "8   YR7220       New York          Kitchen    77516479   92  56.119999   \n",
       "9   YR7220       New York        Cosmetics    47334289   16  10.720000   \n",
       "\n",
       "   DISCOUNT         SP        Date  \n",
       "0      1.86  29.139999  2019-11-26  \n",
       "1      1.50  13.500000  2019-11-26  \n",
       "2      4.40  83.599998  2019-11-26  \n",
       "3      3.64  87.360001  2019-11-26  \n",
       "4      2.55  82.449997  2019-11-26  \n",
       "5      0.74  36.259998  2019-11-26  \n",
       "6      6.40  73.599998  2019-11-26  \n",
       "7      5.68  65.320000  2019-11-26  \n",
       "8      3.68  88.320000  2019-11-26  \n",
       "9      0.96  15.040000  2019-11-26  "
      ]
     },
     "execution_count": 143,
     "metadata": {},
     "output_type": "execute_result"
    }
   ],
   "source": [
    "spark.read.format(\"jdbc\") \\\n",
    "     .option(\"driver\", \"org.postgresql.Driver\") \\\n",
    "     .option(\"url\", f\"jdbc:postgresql://{db_ip}:5432/traindb\") \\\n",
    "     .option(\"user\", user_name) \\\n",
    "     .option(\"password\", password) \\\n",
    "     .option(\"dbtable\", \"clean_transactions\") \\\n",
    "     .load().limit(10).toPandas()"
   ]
  },
  {
   "cell_type": "code",
   "execution_count": null,
   "id": "69958470-ae21-4a3f-9633-0d8ee6482d77",
   "metadata": {},
   "outputs": [],
   "source": [
    "# Q4"
   ]
  },
  {
   "cell_type": "code",
   "execution_count": 145,
   "id": "9b247504-0acc-4cd0-8a23-2450d6fea0c5",
   "metadata": {
    "tags": []
   },
   "outputs": [
    {
     "name": "stderr",
     "output_type": "stream",
     "text": [
      "                                                                                \r"
     ]
    }
   ],
   "source": [
    "df2.write.format(\"parquet\") \\\n",
    "   .mode(\"overwrite\") \\\n",
    "   .option(\"compression\", \"snappy\") \\\n",
    "   .save(\"hdfs://localhost:9000/user/train/spark_odev_transaction\")"
   ]
  },
  {
   "cell_type": "code",
   "execution_count": 146,
   "id": "cdc61154-c6e9-4edc-af0f-6d3dce7a0ac2",
   "metadata": {
    "tags": []
   },
   "outputs": [
    {
     "name": "stdout",
     "output_type": "stream",
     "text": [
      "Found 2 items\n",
      "-rw-r--r--   1 train supergroup          0 2023-04-03 18:08 /user/train/spark_odev_transaction/_SUCCESS\n",
      "-rw-r--r--   1 train supergroup     229002 2023-04-03 18:08 /user/train/spark_odev_transaction/part-00000-d63ce226-90d2-4e2a-9a05-7e914fa0259b-c000.snappy.parquet\n"
     ]
    }
   ],
   "source": [
    "! hdfs dfs -ls /user/train/spark_odev_transaction"
   ]
  },
  {
   "cell_type": "code",
   "execution_count": null,
   "id": "a9db237d-2870-41d5-8069-214b1210f806",
   "metadata": {},
   "outputs": [],
   "source": []
  }
 ],
 "metadata": {
  "kernelspec": {
   "display_name": "venvspark",
   "language": "python",
   "name": "venvspark"
  },
  "language_info": {
   "codemirror_mode": {
    "name": "ipython",
    "version": 3
   },
   "file_extension": ".py",
   "mimetype": "text/x-python",
   "name": "python",
   "nbconvert_exporter": "python",
   "pygments_lexer": "ipython3",
   "version": "3.8.12"
  }
 },
 "nbformat": 4,
 "nbformat_minor": 5
}
