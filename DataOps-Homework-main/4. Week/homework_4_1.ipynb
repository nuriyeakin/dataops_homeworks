{
 "cells": [
  {
   "cell_type": "markdown",
   "id": "0140e1b0",
   "metadata": {},
   "source": []
  },
  {
   "attachments": {},
   "cell_type": "markdown",
   "id": "ec173385",
   "metadata": {},
   "source": [
    "### 1. Library and Configuration"
   ]
  },
  {
   "cell_type": "code",
   "execution_count": 47,
   "id": "cd470f66-4093-4a8a-860f-b5046ea29e5d",
   "metadata": {
    "tags": []
   },
   "outputs": [],
   "source": [
    "import findspark\n",
    "findspark.init(\"/opt/manual/spark\")\n",
    "from pyspark.sql import SparkSession\n",
    "from pyspark.sql.types import *\n",
    "from pyspark.sql import functions as F"
   ]
  },
  {
   "cell_type": "code",
   "execution_count": 48,
   "id": "e520837f-1743-4e74-ae51-4edac1df8232",
   "metadata": {
    "tags": []
   },
   "outputs": [],
   "source": [
    "spark = SparkSession \\\n",
    ".builder \\\n",
    ".master(\"local[2]\") \\\n",
    ".appName(\"Homework4_1\") \\\n",
    ".config(\"spark.executer.memory\",\"2g\") \\\n",
    ".config(\"spark.driver.memory\",\"1g\") \\\n",
    ".enableHiveSupport() \\\n",
    ".getOrCreate()"
   ]
  },
  {
   "cell_type": "code",
   "execution_count": 49,
   "id": "96f5e415-8a0f-4295-8ca4-9070fa15095f",
   "metadata": {
    "tags": []
   },
   "outputs": [],
   "source": [
    "path_of_data = \"file:///home/train/datasets/retail_db\""
   ]
  },
  {
   "attachments": {},
   "cell_type": "markdown",
   "id": "8eb7158e",
   "metadata": {},
   "source": [
    "### 2. Read CSV"
   ]
  },
  {
   "attachments": {},
   "cell_type": "markdown",
   "id": "00d0ec53",
   "metadata": {},
   "source": [
    "### 2.1. Categories.csv"
   ]
  },
  {
   "cell_type": "code",
   "execution_count": 54,
   "id": "227761b1-ca67-44ec-a724-20c8fb4d49dd",
   "metadata": {
    "tags": []
   },
   "outputs": [
    {
     "name": "stdout",
     "output_type": "stream",
     "text": [
      "+----------+--------------------+-------------------+\n",
      "|categoryId|categoryDepartmentId|       categoryName|\n",
      "+----------+--------------------+-------------------+\n",
      "|         1|                   2|           Football|\n",
      "|         2|                   2|             Soccer|\n",
      "|         3|                   2|Baseball & Softball|\n",
      "|         4|                   2|         Basketball|\n",
      "|         5|                   2|           Lacrosse|\n",
      "|         6|                   2|   Tennis & Racquet|\n",
      "|         7|                   2|             Hockey|\n",
      "|         8|                   2|        More Sports|\n",
      "|         9|                   3|   Cardio Equipment|\n",
      "|        10|                   3|  Strength Training|\n",
      "+----------+--------------------+-------------------+\n",
      "only showing top 10 rows\n",
      "\n"
     ]
    }
   ],
   "source": [
    "categories = spark.read.option(\"inferSchema\",True).csv(path_of_data+\"/categories.csv\", header=True)\n",
    "categories.show(10)"
   ]
  },
  {
   "cell_type": "code",
   "execution_count": 55,
   "id": "35321caa-8c25-48e0-9d28-91cbad4a48ea",
   "metadata": {
    "tags": []
   },
   "outputs": [
    {
     "name": "stdout",
     "output_type": "stream",
     "text": [
      "root\n",
      " |-- categoryId: integer (nullable = true)\n",
      " |-- categoryDepartmentId: integer (nullable = true)\n",
      " |-- categoryName: string (nullable = true)\n",
      "\n"
     ]
    }
   ],
   "source": [
    "categories.printSchema()"
   ]
  },
  {
   "attachments": {},
   "cell_type": "markdown",
   "id": "c2756ea3-9157-47ea-a57b-560962f35155",
   "metadata": {},
   "source": [
    "### 2.2. Customers.csv"
   ]
  },
  {
   "cell_type": "code",
   "execution_count": 56,
   "id": "83044188-30d0-4852-bcf0-eb680c458ff9",
   "metadata": {
    "tags": []
   },
   "outputs": [
    {
     "data": {
      "text/html": [
       "<div>\n",
       "<style scoped>\n",
       "    .dataframe tbody tr th:only-of-type {\n",
       "        vertical-align: middle;\n",
       "    }\n",
       "\n",
       "    .dataframe tbody tr th {\n",
       "        vertical-align: top;\n",
       "    }\n",
       "\n",
       "    .dataframe thead th {\n",
       "        text-align: right;\n",
       "    }\n",
       "</style>\n",
       "<table border=\"1\" class=\"dataframe\">\n",
       "  <thead>\n",
       "    <tr style=\"text-align: right;\">\n",
       "      <th></th>\n",
       "      <th>customerId</th>\n",
       "      <th>customerFName</th>\n",
       "      <th>customerLName</th>\n",
       "      <th>customerEmail</th>\n",
       "      <th>customerPassword</th>\n",
       "      <th>customerStreet</th>\n",
       "      <th>customerCity</th>\n",
       "      <th>customerState</th>\n",
       "      <th>customerZipcode</th>\n",
       "    </tr>\n",
       "  </thead>\n",
       "  <tbody>\n",
       "    <tr>\n",
       "      <th>0</th>\n",
       "      <td>1</td>\n",
       "      <td>Richard</td>\n",
       "      <td>Hernandez</td>\n",
       "      <td>XXXXXXXXX</td>\n",
       "      <td>XXXXXXXXX</td>\n",
       "      <td>6303 Heather Plaza</td>\n",
       "      <td>Brownsville</td>\n",
       "      <td>TX</td>\n",
       "      <td>78521</td>\n",
       "    </tr>\n",
       "    <tr>\n",
       "      <th>1</th>\n",
       "      <td>2</td>\n",
       "      <td>Mary</td>\n",
       "      <td>Barrett</td>\n",
       "      <td>XXXXXXXXX</td>\n",
       "      <td>XXXXXXXXX</td>\n",
       "      <td>9526 Noble Embers Ridge</td>\n",
       "      <td>Littleton</td>\n",
       "      <td>CO</td>\n",
       "      <td>80126</td>\n",
       "    </tr>\n",
       "    <tr>\n",
       "      <th>2</th>\n",
       "      <td>3</td>\n",
       "      <td>Ann</td>\n",
       "      <td>Smith</td>\n",
       "      <td>XXXXXXXXX</td>\n",
       "      <td>XXXXXXXXX</td>\n",
       "      <td>3422 Blue Pioneer Bend</td>\n",
       "      <td>Caguas</td>\n",
       "      <td>PR</td>\n",
       "      <td>725</td>\n",
       "    </tr>\n",
       "  </tbody>\n",
       "</table>\n",
       "</div>"
      ],
      "text/plain": [
       "   customerId customerFName customerLName customerEmail customerPassword  \\\n",
       "0           1       Richard     Hernandez     XXXXXXXXX        XXXXXXXXX   \n",
       "1           2          Mary       Barrett     XXXXXXXXX        XXXXXXXXX   \n",
       "2           3           Ann         Smith     XXXXXXXXX        XXXXXXXXX   \n",
       "\n",
       "            customerStreet customerCity customerState  customerZipcode  \n",
       "0       6303 Heather Plaza  Brownsville            TX            78521  \n",
       "1  9526 Noble Embers Ridge    Littleton            CO            80126  \n",
       "2   3422 Blue Pioneer Bend       Caguas            PR              725  "
      ]
     },
     "execution_count": 56,
     "metadata": {},
     "output_type": "execute_result"
    }
   ],
   "source": [
    "customers= spark.read.option(\"inferschema\",True).csv(path_of_data+\"/customers.csv\", header=True)\n",
    "customers.limit(3).toPandas()"
   ]
  },
  {
   "cell_type": "code",
   "execution_count": 57,
   "id": "87a59101-7e36-476c-a7f8-e8f3f2bf75e0",
   "metadata": {
    "tags": []
   },
   "outputs": [
    {
     "name": "stdout",
     "output_type": "stream",
     "text": [
      "root\n",
      " |-- customerId: integer (nullable = true)\n",
      " |-- customerFName: string (nullable = true)\n",
      " |-- customerLName: string (nullable = true)\n",
      " |-- customerEmail: string (nullable = true)\n",
      " |-- customerPassword: string (nullable = true)\n",
      " |-- customerStreet: string (nullable = true)\n",
      " |-- customerCity: string (nullable = true)\n",
      " |-- customerState: string (nullable = true)\n",
      " |-- customerZipcode: integer (nullable = true)\n",
      "\n"
     ]
    }
   ],
   "source": [
    "customers.printSchema()"
   ]
  },
  {
   "cell_type": "code",
   "execution_count": 58,
   "id": "9aa09c10-9a23-4b1f-8a2b-d49575c62bf8",
   "metadata": {
    "tags": []
   },
   "outputs": [],
   "source": [
    "### Departments.csv"
   ]
  },
  {
   "cell_type": "code",
   "execution_count": 59,
   "id": "420f8394-7ef6-4903-828d-ed3c36ce48e0",
   "metadata": {
    "tags": []
   },
   "outputs": [
    {
     "name": "stdout",
     "output_type": "stream",
     "text": [
      "+------------+--------------+\n",
      "|departmentId|departmentName|\n",
      "+------------+--------------+\n",
      "|           2|       Fitness|\n",
      "|           3|      Footwear|\n",
      "|           4|       Apparel|\n",
      "+------------+--------------+\n",
      "only showing top 3 rows\n",
      "\n"
     ]
    }
   ],
   "source": [
    "departments = spark.read.option(\"inferSchema\",True).csv(path_of_data+\"/departments.csv\", header=True)\n",
    "departments.show(3)"
   ]
  },
  {
   "cell_type": "code",
   "execution_count": 60,
   "id": "7f9988d7-5a65-4aef-9000-88fd4f856e70",
   "metadata": {
    "tags": []
   },
   "outputs": [
    {
     "name": "stdout",
     "output_type": "stream",
     "text": [
      "root\n",
      " |-- departmentId: integer (nullable = true)\n",
      " |-- departmentName: string (nullable = true)\n",
      "\n"
     ]
    }
   ],
   "source": [
    "departments.printSchema()"
   ]
  },
  {
   "attachments": {},
   "cell_type": "markdown",
   "id": "89171764-b6ee-489d-b7e8-fb4fae5e9155",
   "metadata": {},
   "source": [
    "### 2.3. Orders.csv"
   ]
  },
  {
   "cell_type": "code",
   "execution_count": 61,
   "id": "915e3add-f73e-454b-8257-171fad679925",
   "metadata": {
    "tags": []
   },
   "outputs": [
    {
     "name": "stdout",
     "output_type": "stream",
     "text": [
      "+-------+--------------------+---------------+---------------+\n",
      "|orderId|           orderDate|orderCustomerId|    orderStatus|\n",
      "+-------+--------------------+---------------+---------------+\n",
      "|      1|2013-07-25 00:00:...|          11599|         CLOSED|\n",
      "|      2|2013-07-25 00:00:...|            256|PENDING_PAYMENT|\n",
      "|      3|2013-07-25 00:00:...|          12111|       COMPLETE|\n",
      "+-------+--------------------+---------------+---------------+\n",
      "only showing top 3 rows\n",
      "\n"
     ]
    }
   ],
   "source": [
    "orders = spark.read.option(\"inferSchema\",True).csv(path_of_data+\"/orders.csv\", header=True)\n",
    "orders.show(3)"
   ]
  },
  {
   "cell_type": "code",
   "execution_count": 62,
   "id": "fd312ad7-237e-4bb2-bf79-2787600bab02",
   "metadata": {
    "tags": []
   },
   "outputs": [
    {
     "name": "stdout",
     "output_type": "stream",
     "text": [
      "root\n",
      " |-- orderId: integer (nullable = true)\n",
      " |-- orderDate: string (nullable = true)\n",
      " |-- orderCustomerId: integer (nullable = true)\n",
      " |-- orderStatus: string (nullable = true)\n",
      "\n"
     ]
    }
   ],
   "source": [
    "orders.printSchema()"
   ]
  },
  {
   "attachments": {},
   "cell_type": "markdown",
   "id": "d56cf69a-4ed6-4f40-8e42-d2be0e6d7f0a",
   "metadata": {},
   "source": [
    "### 2.4. Order_items.csv"
   ]
  },
  {
   "cell_type": "code",
   "execution_count": 63,
   "id": "c7884203-238b-4b96-9e5f-76f5370526f0",
   "metadata": {
    "tags": []
   },
   "outputs": [
    {
     "name": "stderr",
     "output_type": "stream",
     "text": [
      "                                                                                \r"
     ]
    },
    {
     "name": "stdout",
     "output_type": "stream",
     "text": [
      "+-------------+----------------+------------------+-----------------+-----------------+---------------------+\n",
      "|orderItemName|orderItemOrderId|orderItemProductId|orderItemQuantity|orderItemSubTotal|orderItemProductPrice|\n",
      "+-------------+----------------+------------------+-----------------+-----------------+---------------------+\n",
      "|            1|               1|               957|                1|           299.98|               299.98|\n",
      "|            2|               2|              1073|                1|           199.99|               199.99|\n",
      "|            3|               2|               502|                5|            250.0|                 50.0|\n",
      "+-------------+----------------+------------------+-----------------+-----------------+---------------------+\n",
      "only showing top 3 rows\n",
      "\n"
     ]
    }
   ],
   "source": [
    "order_items = spark.read.option(\"inferSchema\",True).csv(path_of_data+\"/order_items.csv\", header=True)\n",
    "order_items.show(3)"
   ]
  },
  {
   "cell_type": "code",
   "execution_count": 64,
   "id": "eddd2c37-9020-4fef-9e41-9537055bc72f",
   "metadata": {
    "tags": []
   },
   "outputs": [
    {
     "name": "stdout",
     "output_type": "stream",
     "text": [
      "root\n",
      " |-- orderItemName: integer (nullable = true)\n",
      " |-- orderItemOrderId: integer (nullable = true)\n",
      " |-- orderItemProductId: integer (nullable = true)\n",
      " |-- orderItemQuantity: integer (nullable = true)\n",
      " |-- orderItemSubTotal: double (nullable = true)\n",
      " |-- orderItemProductPrice: double (nullable = true)\n",
      "\n"
     ]
    }
   ],
   "source": [
    "order_items.printSchema()"
   ]
  },
  {
   "cell_type": "code",
   "execution_count": 65,
   "id": "cc18c70c-1e43-4635-97a0-205706ff80e1",
   "metadata": {
    "tags": []
   },
   "outputs": [],
   "source": [
    "### Products.csv"
   ]
  },
  {
   "cell_type": "code",
   "execution_count": 66,
   "id": "5dae2d41-4238-47c1-86a3-935f1fff4739",
   "metadata": {
    "tags": []
   },
   "outputs": [
    {
     "name": "stdout",
     "output_type": "stream",
     "text": [
      "+---------+-----------------+--------------------+------------------+------------+--------------------+\n",
      "|productId|productCategoryId|         productName|productDescription|productPrice|        productImage|\n",
      "+---------+-----------------+--------------------+------------------+------------+--------------------+\n",
      "|        1|                2|Quest Q64 10 FT. ...|              null|       59.98|http://images.acm...|\n",
      "|        2|                2|Under Armour Men'...|              null|      129.99|http://images.acm...|\n",
      "|        3|                2|Under Armour Men'...|              null|       89.99|http://images.acm...|\n",
      "+---------+-----------------+--------------------+------------------+------------+--------------------+\n",
      "only showing top 3 rows\n",
      "\n"
     ]
    }
   ],
   "source": [
    "products = spark.read.option(\"inferSchema\",True).csv(path_of_data+\"/products.csv\", header=True)\n",
    "products.show(3)"
   ]
  },
  {
   "cell_type": "code",
   "execution_count": 67,
   "id": "026a1bca-c153-4663-bae9-c83310ba6e98",
   "metadata": {
    "tags": []
   },
   "outputs": [
    {
     "name": "stdout",
     "output_type": "stream",
     "text": [
      "root\n",
      " |-- productId: integer (nullable = true)\n",
      " |-- productCategoryId: integer (nullable = true)\n",
      " |-- productName: string (nullable = true)\n",
      " |-- productDescription: string (nullable = true)\n",
      " |-- productPrice: double (nullable = true)\n",
      " |-- productImage: string (nullable = true)\n",
      "\n"
     ]
    }
   ],
   "source": [
    "products.printSchema()"
   ]
  },
  {
   "cell_type": "markdown",
   "id": "cb39ed34-ed57-47c7-9249-80ecce91dc89",
   "metadata": {},
   "source": [
    "# Q1.\n",
    "\n",
    "Find how many unique orderItemOrderIds are in the order_items table?"
   ]
  },
  {
   "cell_type": "code",
   "execution_count": 14,
   "id": "e92d8100-a2c8-44e2-a42a-269a413e455f",
   "metadata": {
    "tags": []
   },
   "outputs": [
    {
     "name": "stderr",
     "output_type": "stream",
     "text": [
      "                                                                                \r"
     ]
    },
    {
     "data": {
      "text/plain": [
       "57431"
      ]
     },
     "execution_count": 14,
     "metadata": {},
     "output_type": "execute_result"
    }
   ],
   "source": [
    "order_items.select(\"orderItemOrderId\").distinct().count()"
   ]
  },
  {
   "cell_type": "markdown",
   "id": "a3078e5e-f712-403e-9f90-3572e73b23b4",
   "metadata": {},
   "source": [
    "# Q2.\n",
    "\n",
    "Find how many rows are in the orders and order_items tables?"
   ]
  },
  {
   "cell_type": "code",
   "execution_count": 15,
   "id": "019976fd-0e2c-4f3b-bc99-b1ba4cd629f2",
   "metadata": {
    "tags": []
   },
   "outputs": [
    {
     "name": "stderr",
     "output_type": "stream",
     "text": [
      "                                                                                \r"
     ]
    },
    {
     "data": {
      "text/plain": [
       "68883"
      ]
     },
     "execution_count": 15,
     "metadata": {},
     "output_type": "execute_result"
    }
   ],
   "source": [
    "orders.count()"
   ]
  },
  {
   "cell_type": "code",
   "execution_count": 16,
   "id": "8552767f-e3a2-4ba2-a617-9e2ba2308f3c",
   "metadata": {
    "tags": []
   },
   "outputs": [
    {
     "name": "stderr",
     "output_type": "stream",
     "text": [
      "                                                                                \r"
     ]
    },
    {
     "data": {
      "text/plain": [
       "172198"
      ]
     },
     "execution_count": 16,
     "metadata": {},
     "output_type": "execute_result"
    }
   ],
   "source": [
    "order_items.count()"
   ]
  },
  {
   "cell_type": "markdown",
   "id": "5800adb8-ad73-45be-8adb-2f4d117dffda",
   "metadata": {},
   "source": [
    "# Q3.\n",
    "\n",
    "Write the most canceled (descending order) products to the local disk in parquet format in terms of total sales amount."
   ]
  },
  {
   "attachments": {},
   "cell_type": "markdown",
   "id": "e723c01f-551f-4207-9dd7-85ca06036782",
   "metadata": {},
   "source": [
    "- Step 1. We need the \"products\" data to see which products. ------------------------------->\"products\"\n",
    "* We need to use \"categories\" data to see which categories-------------------------->\"categories\"\n",
    "\n",
    "- Step 2. We need to know \"order\" information. So I will use \"order_items\" data.-------------->\"order_items\"\n",
    "\n",
    "- Step 3. We will join steps1 and steps2 and achieve \"Cancelled Products\"."
   ]
  },
  {
   "cell_type": "code",
   "execution_count": 68,
   "id": "d133e34b-35cf-475a-b580-107764731947",
   "metadata": {
    "tags": []
   },
   "outputs": [
    {
     "data": {
      "text/html": [
       "<div>\n",
       "<style scoped>\n",
       "    .dataframe tbody tr th:only-of-type {\n",
       "        vertical-align: middle;\n",
       "    }\n",
       "\n",
       "    .dataframe tbody tr th {\n",
       "        vertical-align: top;\n",
       "    }\n",
       "\n",
       "    .dataframe thead th {\n",
       "        text-align: right;\n",
       "    }\n",
       "</style>\n",
       "<table border=\"1\" class=\"dataframe\">\n",
       "  <thead>\n",
       "    <tr style=\"text-align: right;\">\n",
       "      <th></th>\n",
       "      <th>productId</th>\n",
       "      <th>productName</th>\n",
       "      <th>categoryName</th>\n",
       "    </tr>\n",
       "  </thead>\n",
       "  <tbody>\n",
       "    <tr>\n",
       "      <th>0</th>\n",
       "      <td>1</td>\n",
       "      <td>Quest Q64 10 FT. x 10 FT. Slant Leg Instant U</td>\n",
       "      <td>Soccer</td>\n",
       "    </tr>\n",
       "    <tr>\n",
       "      <th>1</th>\n",
       "      <td>2</td>\n",
       "      <td>Under Armour Men's Highlight MC Football Clea</td>\n",
       "      <td>Soccer</td>\n",
       "    </tr>\n",
       "    <tr>\n",
       "      <th>2</th>\n",
       "      <td>3</td>\n",
       "      <td>Under Armour Men's Renegade D Mid Football Cl</td>\n",
       "      <td>Soccer</td>\n",
       "    </tr>\n",
       "    <tr>\n",
       "      <th>3</th>\n",
       "      <td>4</td>\n",
       "      <td>Under Armour Men's Renegade D Mid Football Cl</td>\n",
       "      <td>Soccer</td>\n",
       "    </tr>\n",
       "    <tr>\n",
       "      <th>4</th>\n",
       "      <td>5</td>\n",
       "      <td>Riddell Youth Revolution Speed Custom Footbal</td>\n",
       "      <td>Soccer</td>\n",
       "    </tr>\n",
       "  </tbody>\n",
       "</table>\n",
       "</div>"
      ],
      "text/plain": [
       "   productId                                    productName categoryName\n",
       "0          1  Quest Q64 10 FT. x 10 FT. Slant Leg Instant U       Soccer\n",
       "1          2  Under Armour Men's Highlight MC Football Clea       Soccer\n",
       "2          3  Under Armour Men's Renegade D Mid Football Cl       Soccer\n",
       "3          4  Under Armour Men's Renegade D Mid Football Cl       Soccer\n",
       "4          5  Riddell Youth Revolution Speed Custom Footbal       Soccer"
      ]
     },
     "execution_count": 68,
     "metadata": {},
     "output_type": "execute_result"
    }
   ],
   "source": [
    "categ_products = products.join(categories, products['productCategoryId'] == categories['categoryId']) \\\n",
    "                       .select(\"productId\",\"productName\", \"categoryName\")\n",
    "\n",
    "categ_products.limit(5).toPandas().head()"
   ]
  },
  {
   "cell_type": "code",
   "execution_count": 69,
   "id": "78be7372-b1cf-4320-ad4e-2396e06a27de",
   "metadata": {
    "tags": []
   },
   "outputs": [
    {
     "data": {
      "text/html": [
       "<div>\n",
       "<style scoped>\n",
       "    .dataframe tbody tr th:only-of-type {\n",
       "        vertical-align: middle;\n",
       "    }\n",
       "\n",
       "    .dataframe tbody tr th {\n",
       "        vertical-align: top;\n",
       "    }\n",
       "\n",
       "    .dataframe thead th {\n",
       "        text-align: right;\n",
       "    }\n",
       "</style>\n",
       "<table border=\"1\" class=\"dataframe\">\n",
       "  <thead>\n",
       "    <tr style=\"text-align: right;\">\n",
       "      <th></th>\n",
       "      <th>orderId</th>\n",
       "      <th>orderItemProductId</th>\n",
       "      <th>orderItemSubTotal</th>\n",
       "      <th>orderStatus</th>\n",
       "    </tr>\n",
       "  </thead>\n",
       "  <tbody>\n",
       "    <tr>\n",
       "      <th>0</th>\n",
       "      <td>1</td>\n",
       "      <td>957</td>\n",
       "      <td>299.98</td>\n",
       "      <td>CLOSED</td>\n",
       "    </tr>\n",
       "    <tr>\n",
       "      <th>1</th>\n",
       "      <td>2</td>\n",
       "      <td>1073</td>\n",
       "      <td>199.99</td>\n",
       "      <td>PENDING_PAYMENT</td>\n",
       "    </tr>\n",
       "    <tr>\n",
       "      <th>2</th>\n",
       "      <td>2</td>\n",
       "      <td>502</td>\n",
       "      <td>250.00</td>\n",
       "      <td>PENDING_PAYMENT</td>\n",
       "    </tr>\n",
       "    <tr>\n",
       "      <th>3</th>\n",
       "      <td>2</td>\n",
       "      <td>403</td>\n",
       "      <td>129.99</td>\n",
       "      <td>PENDING_PAYMENT</td>\n",
       "    </tr>\n",
       "    <tr>\n",
       "      <th>4</th>\n",
       "      <td>4</td>\n",
       "      <td>897</td>\n",
       "      <td>49.98</td>\n",
       "      <td>CLOSED</td>\n",
       "    </tr>\n",
       "  </tbody>\n",
       "</table>\n",
       "</div>"
      ],
      "text/plain": [
       "   orderId  orderItemProductId  orderItemSubTotal      orderStatus\n",
       "0        1                 957             299.98           CLOSED\n",
       "1        2                1073             199.99  PENDING_PAYMENT\n",
       "2        2                 502             250.00  PENDING_PAYMENT\n",
       "3        2                 403             129.99  PENDING_PAYMENT\n",
       "4        4                 897              49.98           CLOSED"
      ]
     },
     "execution_count": 69,
     "metadata": {},
     "output_type": "execute_result"
    }
   ],
   "source": [
    "orders_and_items = order_items.join(orders, order_items['orderItemOrderId'] == orders['orderId']) \\\n",
    "                              .select(\"orderId\",\"orderItemProductId\",\"orderItemSubTotal\",\"orderStatus\")\n",
    "\n",
    "orders_and_items.limit(5).toPandas().head()"
   ]
  },
  {
   "cell_type": "code",
   "execution_count": 71,
   "id": "c657729e-798a-48a0-aac4-6cd8801c1d3c",
   "metadata": {
    "tags": []
   },
   "outputs": [
    {
     "name": "stderr",
     "output_type": "stream",
     "text": [
      "                                                                                \r"
     ]
    },
    {
     "data": {
      "text/html": [
       "<div>\n",
       "<style scoped>\n",
       "    .dataframe tbody tr th:only-of-type {\n",
       "        vertical-align: middle;\n",
       "    }\n",
       "\n",
       "    .dataframe tbody tr th {\n",
       "        vertical-align: top;\n",
       "    }\n",
       "\n",
       "    .dataframe thead th {\n",
       "        text-align: right;\n",
       "    }\n",
       "</style>\n",
       "<table border=\"1\" class=\"dataframe\">\n",
       "  <thead>\n",
       "    <tr style=\"text-align: right;\">\n",
       "      <th></th>\n",
       "      <th>orderId</th>\n",
       "      <th>orderItemProductId</th>\n",
       "      <th>orderItemSubTotal</th>\n",
       "      <th>orderStatus</th>\n",
       "      <th>productId</th>\n",
       "      <th>productName</th>\n",
       "      <th>categoryName</th>\n",
       "    </tr>\n",
       "  </thead>\n",
       "  <tbody>\n",
       "    <tr>\n",
       "      <th>0</th>\n",
       "      <td>57760</td>\n",
       "      <td>858</td>\n",
       "      <td>199.99</td>\n",
       "      <td>PENDING_PAYMENT</td>\n",
       "      <td>858</td>\n",
       "      <td>GolfBuddy VT3 GPS Watch</td>\n",
       "      <td>Kids' Golf Clubs</td>\n",
       "    </tr>\n",
       "    <tr>\n",
       "      <th>1</th>\n",
       "      <td>57847</td>\n",
       "      <td>858</td>\n",
       "      <td>199.99</td>\n",
       "      <td>COMPLETE</td>\n",
       "      <td>858</td>\n",
       "      <td>GolfBuddy VT3 GPS Watch</td>\n",
       "      <td>Kids' Golf Clubs</td>\n",
       "    </tr>\n",
       "    <tr>\n",
       "      <th>2</th>\n",
       "      <td>58071</td>\n",
       "      <td>858</td>\n",
       "      <td>199.99</td>\n",
       "      <td>PENDING</td>\n",
       "      <td>858</td>\n",
       "      <td>GolfBuddy VT3 GPS Watch</td>\n",
       "      <td>Kids' Golf Clubs</td>\n",
       "    </tr>\n",
       "    <tr>\n",
       "      <th>3</th>\n",
       "      <td>58170</td>\n",
       "      <td>858</td>\n",
       "      <td>199.99</td>\n",
       "      <td>PENDING</td>\n",
       "      <td>858</td>\n",
       "      <td>GolfBuddy VT3 GPS Watch</td>\n",
       "      <td>Kids' Golf Clubs</td>\n",
       "    </tr>\n",
       "    <tr>\n",
       "      <th>4</th>\n",
       "      <td>58585</td>\n",
       "      <td>858</td>\n",
       "      <td>199.99</td>\n",
       "      <td>CANCELED</td>\n",
       "      <td>858</td>\n",
       "      <td>GolfBuddy VT3 GPS Watch</td>\n",
       "      <td>Kids' Golf Clubs</td>\n",
       "    </tr>\n",
       "    <tr>\n",
       "      <th>5</th>\n",
       "      <td>58589</td>\n",
       "      <td>858</td>\n",
       "      <td>199.99</td>\n",
       "      <td>COMPLETE</td>\n",
       "      <td>858</td>\n",
       "      <td>GolfBuddy VT3 GPS Watch</td>\n",
       "      <td>Kids' Golf Clubs</td>\n",
       "    </tr>\n",
       "    <tr>\n",
       "      <th>6</th>\n",
       "      <td>58695</td>\n",
       "      <td>858</td>\n",
       "      <td>199.99</td>\n",
       "      <td>COMPLETE</td>\n",
       "      <td>858</td>\n",
       "      <td>GolfBuddy VT3 GPS Watch</td>\n",
       "      <td>Kids' Golf Clubs</td>\n",
       "    </tr>\n",
       "    <tr>\n",
       "      <th>7</th>\n",
       "      <td>58774</td>\n",
       "      <td>858</td>\n",
       "      <td>199.99</td>\n",
       "      <td>PENDING</td>\n",
       "      <td>858</td>\n",
       "      <td>GolfBuddy VT3 GPS Watch</td>\n",
       "      <td>Kids' Golf Clubs</td>\n",
       "    </tr>\n",
       "    <tr>\n",
       "      <th>8</th>\n",
       "      <td>58797</td>\n",
       "      <td>858</td>\n",
       "      <td>199.99</td>\n",
       "      <td>COMPLETE</td>\n",
       "      <td>858</td>\n",
       "      <td>GolfBuddy VT3 GPS Watch</td>\n",
       "      <td>Kids' Golf Clubs</td>\n",
       "    </tr>\n",
       "    <tr>\n",
       "      <th>9</th>\n",
       "      <td>58926</td>\n",
       "      <td>858</td>\n",
       "      <td>199.99</td>\n",
       "      <td>PENDING_PAYMENT</td>\n",
       "      <td>858</td>\n",
       "      <td>GolfBuddy VT3 GPS Watch</td>\n",
       "      <td>Kids' Golf Clubs</td>\n",
       "    </tr>\n",
       "    <tr>\n",
       "      <th>10</th>\n",
       "      <td>59169</td>\n",
       "      <td>858</td>\n",
       "      <td>199.99</td>\n",
       "      <td>PROCESSING</td>\n",
       "      <td>858</td>\n",
       "      <td>GolfBuddy VT3 GPS Watch</td>\n",
       "      <td>Kids' Golf Clubs</td>\n",
       "    </tr>\n",
       "    <tr>\n",
       "      <th>11</th>\n",
       "      <td>59273</td>\n",
       "      <td>858</td>\n",
       "      <td>199.99</td>\n",
       "      <td>PROCESSING</td>\n",
       "      <td>858</td>\n",
       "      <td>GolfBuddy VT3 GPS Watch</td>\n",
       "      <td>Kids' Golf Clubs</td>\n",
       "    </tr>\n",
       "    <tr>\n",
       "      <th>12</th>\n",
       "      <td>59542</td>\n",
       "      <td>858</td>\n",
       "      <td>199.99</td>\n",
       "      <td>PENDING</td>\n",
       "      <td>858</td>\n",
       "      <td>GolfBuddy VT3 GPS Watch</td>\n",
       "      <td>Kids' Golf Clubs</td>\n",
       "    </tr>\n",
       "    <tr>\n",
       "      <th>13</th>\n",
       "      <td>59893</td>\n",
       "      <td>858</td>\n",
       "      <td>199.99</td>\n",
       "      <td>PENDING_PAYMENT</td>\n",
       "      <td>858</td>\n",
       "      <td>GolfBuddy VT3 GPS Watch</td>\n",
       "      <td>Kids' Golf Clubs</td>\n",
       "    </tr>\n",
       "    <tr>\n",
       "      <th>14</th>\n",
       "      <td>60113</td>\n",
       "      <td>858</td>\n",
       "      <td>199.99</td>\n",
       "      <td>COMPLETE</td>\n",
       "      <td>858</td>\n",
       "      <td>GolfBuddy VT3 GPS Watch</td>\n",
       "      <td>Kids' Golf Clubs</td>\n",
       "    </tr>\n",
       "    <tr>\n",
       "      <th>15</th>\n",
       "      <td>60276</td>\n",
       "      <td>858</td>\n",
       "      <td>199.99</td>\n",
       "      <td>COMPLETE</td>\n",
       "      <td>858</td>\n",
       "      <td>GolfBuddy VT3 GPS Watch</td>\n",
       "      <td>Kids' Golf Clubs</td>\n",
       "    </tr>\n",
       "    <tr>\n",
       "      <th>16</th>\n",
       "      <td>60373</td>\n",
       "      <td>858</td>\n",
       "      <td>199.99</td>\n",
       "      <td>PENDING_PAYMENT</td>\n",
       "      <td>858</td>\n",
       "      <td>GolfBuddy VT3 GPS Watch</td>\n",
       "      <td>Kids' Golf Clubs</td>\n",
       "    </tr>\n",
       "    <tr>\n",
       "      <th>17</th>\n",
       "      <td>60616</td>\n",
       "      <td>858</td>\n",
       "      <td>199.99</td>\n",
       "      <td>COMPLETE</td>\n",
       "      <td>858</td>\n",
       "      <td>GolfBuddy VT3 GPS Watch</td>\n",
       "      <td>Kids' Golf Clubs</td>\n",
       "    </tr>\n",
       "    <tr>\n",
       "      <th>18</th>\n",
       "      <td>60716</td>\n",
       "      <td>858</td>\n",
       "      <td>199.99</td>\n",
       "      <td>PENDING_PAYMENT</td>\n",
       "      <td>858</td>\n",
       "      <td>GolfBuddy VT3 GPS Watch</td>\n",
       "      <td>Kids' Golf Clubs</td>\n",
       "    </tr>\n",
       "    <tr>\n",
       "      <th>19</th>\n",
       "      <td>61231</td>\n",
       "      <td>858</td>\n",
       "      <td>199.99</td>\n",
       "      <td>PROCESSING</td>\n",
       "      <td>858</td>\n",
       "      <td>GolfBuddy VT3 GPS Watch</td>\n",
       "      <td>Kids' Golf Clubs</td>\n",
       "    </tr>\n",
       "    <tr>\n",
       "      <th>20</th>\n",
       "      <td>61437</td>\n",
       "      <td>858</td>\n",
       "      <td>199.99</td>\n",
       "      <td>CLOSED</td>\n",
       "      <td>858</td>\n",
       "      <td>GolfBuddy VT3 GPS Watch</td>\n",
       "      <td>Kids' Golf Clubs</td>\n",
       "    </tr>\n",
       "    <tr>\n",
       "      <th>21</th>\n",
       "      <td>61562</td>\n",
       "      <td>858</td>\n",
       "      <td>199.99</td>\n",
       "      <td>PROCESSING</td>\n",
       "      <td>858</td>\n",
       "      <td>GolfBuddy VT3 GPS Watch</td>\n",
       "      <td>Kids' Golf Clubs</td>\n",
       "    </tr>\n",
       "    <tr>\n",
       "      <th>22</th>\n",
       "      <td>61963</td>\n",
       "      <td>858</td>\n",
       "      <td>199.99</td>\n",
       "      <td>PENDING_PAYMENT</td>\n",
       "      <td>858</td>\n",
       "      <td>GolfBuddy VT3 GPS Watch</td>\n",
       "      <td>Kids' Golf Clubs</td>\n",
       "    </tr>\n",
       "    <tr>\n",
       "      <th>23</th>\n",
       "      <td>62122</td>\n",
       "      <td>858</td>\n",
       "      <td>199.99</td>\n",
       "      <td>COMPLETE</td>\n",
       "      <td>858</td>\n",
       "      <td>GolfBuddy VT3 GPS Watch</td>\n",
       "      <td>Kids' Golf Clubs</td>\n",
       "    </tr>\n",
       "    <tr>\n",
       "      <th>24</th>\n",
       "      <td>62252</td>\n",
       "      <td>858</td>\n",
       "      <td>199.99</td>\n",
       "      <td>PROCESSING</td>\n",
       "      <td>858</td>\n",
       "      <td>GolfBuddy VT3 GPS Watch</td>\n",
       "      <td>Kids' Golf Clubs</td>\n",
       "    </tr>\n",
       "  </tbody>\n",
       "</table>\n",
       "</div>"
      ],
      "text/plain": [
       "    orderId  orderItemProductId  orderItemSubTotal      orderStatus  \\\n",
       "0     57760                 858             199.99  PENDING_PAYMENT   \n",
       "1     57847                 858             199.99         COMPLETE   \n",
       "2     58071                 858             199.99          PENDING   \n",
       "3     58170                 858             199.99          PENDING   \n",
       "4     58585                 858             199.99         CANCELED   \n",
       "5     58589                 858             199.99         COMPLETE   \n",
       "6     58695                 858             199.99         COMPLETE   \n",
       "7     58774                 858             199.99          PENDING   \n",
       "8     58797                 858             199.99         COMPLETE   \n",
       "9     58926                 858             199.99  PENDING_PAYMENT   \n",
       "10    59169                 858             199.99       PROCESSING   \n",
       "11    59273                 858             199.99       PROCESSING   \n",
       "12    59542                 858             199.99          PENDING   \n",
       "13    59893                 858             199.99  PENDING_PAYMENT   \n",
       "14    60113                 858             199.99         COMPLETE   \n",
       "15    60276                 858             199.99         COMPLETE   \n",
       "16    60373                 858             199.99  PENDING_PAYMENT   \n",
       "17    60616                 858             199.99         COMPLETE   \n",
       "18    60716                 858             199.99  PENDING_PAYMENT   \n",
       "19    61231                 858             199.99       PROCESSING   \n",
       "20    61437                 858             199.99           CLOSED   \n",
       "21    61562                 858             199.99       PROCESSING   \n",
       "22    61963                 858             199.99  PENDING_PAYMENT   \n",
       "23    62122                 858             199.99         COMPLETE   \n",
       "24    62252                 858             199.99       PROCESSING   \n",
       "\n",
       "    productId              productName      categoryName  \n",
       "0         858  GolfBuddy VT3 GPS Watch  Kids' Golf Clubs  \n",
       "1         858  GolfBuddy VT3 GPS Watch  Kids' Golf Clubs  \n",
       "2         858  GolfBuddy VT3 GPS Watch  Kids' Golf Clubs  \n",
       "3         858  GolfBuddy VT3 GPS Watch  Kids' Golf Clubs  \n",
       "4         858  GolfBuddy VT3 GPS Watch  Kids' Golf Clubs  \n",
       "5         858  GolfBuddy VT3 GPS Watch  Kids' Golf Clubs  \n",
       "6         858  GolfBuddy VT3 GPS Watch  Kids' Golf Clubs  \n",
       "7         858  GolfBuddy VT3 GPS Watch  Kids' Golf Clubs  \n",
       "8         858  GolfBuddy VT3 GPS Watch  Kids' Golf Clubs  \n",
       "9         858  GolfBuddy VT3 GPS Watch  Kids' Golf Clubs  \n",
       "10        858  GolfBuddy VT3 GPS Watch  Kids' Golf Clubs  \n",
       "11        858  GolfBuddy VT3 GPS Watch  Kids' Golf Clubs  \n",
       "12        858  GolfBuddy VT3 GPS Watch  Kids' Golf Clubs  \n",
       "13        858  GolfBuddy VT3 GPS Watch  Kids' Golf Clubs  \n",
       "14        858  GolfBuddy VT3 GPS Watch  Kids' Golf Clubs  \n",
       "15        858  GolfBuddy VT3 GPS Watch  Kids' Golf Clubs  \n",
       "16        858  GolfBuddy VT3 GPS Watch  Kids' Golf Clubs  \n",
       "17        858  GolfBuddy VT3 GPS Watch  Kids' Golf Clubs  \n",
       "18        858  GolfBuddy VT3 GPS Watch  Kids' Golf Clubs  \n",
       "19        858  GolfBuddy VT3 GPS Watch  Kids' Golf Clubs  \n",
       "20        858  GolfBuddy VT3 GPS Watch  Kids' Golf Clubs  \n",
       "21        858  GolfBuddy VT3 GPS Watch  Kids' Golf Clubs  \n",
       "22        858  GolfBuddy VT3 GPS Watch  Kids' Golf Clubs  \n",
       "23        858  GolfBuddy VT3 GPS Watch  Kids' Golf Clubs  \n",
       "24        858  GolfBuddy VT3 GPS Watch  Kids' Golf Clubs  "
      ]
     },
     "execution_count": 71,
     "metadata": {},
     "output_type": "execute_result"
    }
   ],
   "source": [
    "table_of_cancelled = orders_and_items.join(categ_products, orders_and_items['orderItemProductId'] == categ_products['productId'])\n",
    "\n",
    "table_of_cancelled.limit(25).toPandas().head(25)"
   ]
  },
  {
   "cell_type": "code",
   "execution_count": 98,
   "id": "8569cbd9-9550-4300-a663-a0aae6edc05d",
   "metadata": {
    "tags": []
   },
   "outputs": [
    {
     "name": "stderr",
     "output_type": "stream",
     "text": [
      "                                                                                \r"
     ]
    },
    {
     "data": {
      "text/html": [
       "<div>\n",
       "<style scoped>\n",
       "    .dataframe tbody tr th:only-of-type {\n",
       "        vertical-align: middle;\n",
       "    }\n",
       "\n",
       "    .dataframe tbody tr th {\n",
       "        vertical-align: top;\n",
       "    }\n",
       "\n",
       "    .dataframe thead th {\n",
       "        text-align: right;\n",
       "    }\n",
       "</style>\n",
       "<table border=\"1\" class=\"dataframe\">\n",
       "  <thead>\n",
       "    <tr style=\"text-align: right;\">\n",
       "      <th></th>\n",
       "      <th>productName</th>\n",
       "      <th>Totalprice</th>\n",
       "    </tr>\n",
       "  </thead>\n",
       "  <tbody>\n",
       "    <tr>\n",
       "      <th>0</th>\n",
       "      <td>Field &amp; Stream Sportsman 16 Gun Fire Safe</td>\n",
       "      <td>134393.28</td>\n",
       "    </tr>\n",
       "    <tr>\n",
       "      <th>1</th>\n",
       "      <td>Perfect Fitness Perfect Rip Deck</td>\n",
       "      <td>85785.70</td>\n",
       "    </tr>\n",
       "    <tr>\n",
       "      <th>2</th>\n",
       "      <td>Nike Men's Free 5.0+ Running Shoe</td>\n",
       "      <td>80691.93</td>\n",
       "    </tr>\n",
       "    <tr>\n",
       "      <th>3</th>\n",
       "      <td>Diamondback Women's Serene Classic Comfort Bi</td>\n",
       "      <td>80094.66</td>\n",
       "    </tr>\n",
       "    <tr>\n",
       "      <th>4</th>\n",
       "      <td>Pelican Sunstream 100 Kayak</td>\n",
       "      <td>66196.69</td>\n",
       "    </tr>\n",
       "    <tr>\n",
       "      <th>5</th>\n",
       "      <td>Nike Men's Dri-FIT Victory Golf Polo</td>\n",
       "      <td>65750.00</td>\n",
       "    </tr>\n",
       "    <tr>\n",
       "      <th>6</th>\n",
       "      <td>Nike Men's CJ Elite 2 TD Football Cleat</td>\n",
       "      <td>60705.33</td>\n",
       "    </tr>\n",
       "    <tr>\n",
       "      <th>7</th>\n",
       "      <td>O'Brien Men's Neoprene Life Vest</td>\n",
       "      <td>58126.74</td>\n",
       "    </tr>\n",
       "    <tr>\n",
       "      <th>8</th>\n",
       "      <td>Under Armour Girls' Toddler Spine Surge Runni</td>\n",
       "      <td>26153.46</td>\n",
       "    </tr>\n",
       "    <tr>\n",
       "      <th>9</th>\n",
       "      <td>LIJA Women's Eyelet Sleeveless Golf Polo</td>\n",
       "      <td>2145.00</td>\n",
       "    </tr>\n",
       "  </tbody>\n",
       "</table>\n",
       "</div>"
      ],
      "text/plain": [
       "                                     productName  Totalprice\n",
       "0      Field & Stream Sportsman 16 Gun Fire Safe   134393.28\n",
       "1               Perfect Fitness Perfect Rip Deck    85785.70\n",
       "2              Nike Men's Free 5.0+ Running Shoe    80691.93\n",
       "3  Diamondback Women's Serene Classic Comfort Bi    80094.66\n",
       "4                    Pelican Sunstream 100 Kayak    66196.69\n",
       "5           Nike Men's Dri-FIT Victory Golf Polo    65750.00\n",
       "6        Nike Men's CJ Elite 2 TD Football Cleat    60705.33\n",
       "7               O'Brien Men's Neoprene Life Vest    58126.74\n",
       "8  Under Armour Girls' Toddler Spine Surge Runni    26153.46\n",
       "9       LIJA Women's Eyelet Sleeveless Golf Polo     2145.00"
      ]
     },
     "execution_count": 98,
     "metadata": {},
     "output_type": "execute_result"
    }
   ],
   "source": [
    "most_cancelled_products = table_of_cancelled.filter(\"orderStatus == 'CANCELED'\") \\\n",
    ".groupBy(\"productName\").agg(F.sum(\"orderItemSubTotal\").alias(\"Totalprice\")) \\\n",
    ".orderBy(F.desc(\"TotalPrice\"))\n",
    "\n",
    "most_cancelled_products.limit(10).toPandas().head(10)"
   ]
  },
  {
   "cell_type": "code",
   "execution_count": 99,
   "id": "7e5c9618-69f9-42d2-b2c1-cb077a71ffbf",
   "metadata": {
    "tags": []
   },
   "outputs": [],
   "source": [
    "output_path = \"file:///home/train/pyspark_output_data\""
   ]
  },
  {
   "cell_type": "code",
   "execution_count": 100,
   "id": "c53b4d62-f42d-430d-83ca-836f6f946e00",
   "metadata": {
    "tags": []
   },
   "outputs": [
    {
     "name": "stderr",
     "output_type": "stream",
     "text": [
      "                                                                                \r"
     ]
    }
   ],
   "source": [
    "\n",
    "most_cancelled_products.coalesce(1) \\\n",
    ".write.mode(\"overwrite\").parquet(output_path+\"/most_cancelled_products_parquet\")"
   ]
  },
  {
   "cell_type": "markdown",
   "id": "82597147-0131-44e3-a8e2-fc26612de891",
   "metadata": {},
   "source": [
    "# Q4\n",
    "Write the most canceled (descending order) categories in terms of total sales amount to the local disk in `parquet` format."
   ]
  },
  {
   "cell_type": "code",
   "execution_count": 102,
   "id": "93d8b04c-1e60-4a1d-a0bc-8ff984a32e2b",
   "metadata": {
    "tags": []
   },
   "outputs": [
    {
     "name": "stderr",
     "output_type": "stream",
     "text": [
      "                                                                                \r"
     ]
    },
    {
     "data": {
      "text/html": [
       "<div>\n",
       "<style scoped>\n",
       "    .dataframe tbody tr th:only-of-type {\n",
       "        vertical-align: middle;\n",
       "    }\n",
       "\n",
       "    .dataframe tbody tr th {\n",
       "        vertical-align: top;\n",
       "    }\n",
       "\n",
       "    .dataframe thead th {\n",
       "        text-align: right;\n",
       "    }\n",
       "</style>\n",
       "<table border=\"1\" class=\"dataframe\">\n",
       "  <thead>\n",
       "    <tr style=\"text-align: right;\">\n",
       "      <th></th>\n",
       "      <th>categoryName</th>\n",
       "      <th>Totalprice</th>\n",
       "    </tr>\n",
       "  </thead>\n",
       "  <tbody>\n",
       "    <tr>\n",
       "      <th>0</th>\n",
       "      <td>Fishing</td>\n",
       "      <td>134393.28</td>\n",
       "    </tr>\n",
       "    <tr>\n",
       "      <th>1</th>\n",
       "      <td>Cleats</td>\n",
       "      <td>85785.70</td>\n",
       "    </tr>\n",
       "    <tr>\n",
       "      <th>2</th>\n",
       "      <td>Cardio Equipment</td>\n",
       "      <td>81351.93</td>\n",
       "    </tr>\n",
       "    <tr>\n",
       "      <th>3</th>\n",
       "      <td>Camping &amp; Hiking</td>\n",
       "      <td>80094.66</td>\n",
       "    </tr>\n",
       "    <tr>\n",
       "      <th>4</th>\n",
       "      <td>Water Sports</td>\n",
       "      <td>66196.69</td>\n",
       "    </tr>\n",
       "    <tr>\n",
       "      <th>5</th>\n",
       "      <td>Women's Apparel</td>\n",
       "      <td>65750.00</td>\n",
       "    </tr>\n",
       "    <tr>\n",
       "      <th>6</th>\n",
       "      <td>Men's Footwear</td>\n",
       "      <td>60705.33</td>\n",
       "    </tr>\n",
       "    <tr>\n",
       "      <th>7</th>\n",
       "      <td>Indoor/Outdoor Games</td>\n",
       "      <td>58126.74</td>\n",
       "    </tr>\n",
       "    <tr>\n",
       "      <th>8</th>\n",
       "      <td>Shop By Sport</td>\n",
       "      <td>27423.44</td>\n",
       "    </tr>\n",
       "    <tr>\n",
       "      <th>9</th>\n",
       "      <td>Electronics</td>\n",
       "      <td>5685.50</td>\n",
       "    </tr>\n",
       "  </tbody>\n",
       "</table>\n",
       "</div>"
      ],
      "text/plain": [
       "           categoryName  Totalprice\n",
       "0               Fishing   134393.28\n",
       "1                Cleats    85785.70\n",
       "2      Cardio Equipment    81351.93\n",
       "3      Camping & Hiking    80094.66\n",
       "4          Water Sports    66196.69\n",
       "5       Women's Apparel    65750.00\n",
       "6        Men's Footwear    60705.33\n",
       "7  Indoor/Outdoor Games    58126.74\n",
       "8         Shop By Sport    27423.44\n",
       "9           Electronics     5685.50"
      ]
     },
     "execution_count": 102,
     "metadata": {},
     "output_type": "execute_result"
    }
   ],
   "source": [
    "most_cancelled_categ = table_of_cancelled.filter(\"orderStatus == 'CANCELED'\") \\\n",
    ".groupBy(\"categoryName\").agg(F.sum(\"orderItemSubTotal\").alias(\"Totalprice\")) \\\n",
    ".orderBy(F.desc(\"TotalPrice\"))\n",
    "most_cancelled_categ.limit(10).toPandas().head(10)"
   ]
  },
  {
   "cell_type": "code",
   "execution_count": 103,
   "id": "dab99761-91bd-40df-a3ad-a2d8a5db7ad9",
   "metadata": {
    "tags": []
   },
   "outputs": [
    {
     "name": "stderr",
     "output_type": "stream",
     "text": [
      "                                                                                \r"
     ]
    }
   ],
   "source": [
    "most_cancelled_categ.coalesce(1) \\\n",
    ".write.mode(\"overwrite\").parquet(output_path+\"/most_cancelled_categ_parquet\")"
   ]
  },
  {
   "cell_type": "markdown",
   "id": "7b0f1aaf-c0ec-47f0-af77-d7bac21ec5cc",
   "metadata": {},
   "source": [
    "# Q5. \n",
    "\n",
    "In which month of which year (in Turkish) was the highest total sales?"
   ]
  },
  {
   "cell_type": "code",
   "execution_count": 24,
   "id": "430c2ffd-5db9-4c9b-abe3-641eb9c4e8c6",
   "metadata": {
    "tags": []
   },
   "outputs": [],
   "source": [
    "# Step 1. I will do join date of order_items and orders.\n",
    "\n",
    "# Step 2. I will replace date format."
   ]
  },
  {
   "cell_type": "code",
   "execution_count": 73,
   "id": "392a4916-65ab-44a0-a3da-6ae9541eeef0",
   "metadata": {
    "tags": []
   },
   "outputs": [
    {
     "data": {
      "text/html": [
       "<div>\n",
       "<style scoped>\n",
       "    .dataframe tbody tr th:only-of-type {\n",
       "        vertical-align: middle;\n",
       "    }\n",
       "\n",
       "    .dataframe tbody tr th {\n",
       "        vertical-align: top;\n",
       "    }\n",
       "\n",
       "    .dataframe thead th {\n",
       "        text-align: right;\n",
       "    }\n",
       "</style>\n",
       "<table border=\"1\" class=\"dataframe\">\n",
       "  <thead>\n",
       "    <tr style=\"text-align: right;\">\n",
       "      <th></th>\n",
       "      <th>orderId</th>\n",
       "      <th>orderItemProductId</th>\n",
       "      <th>orderItemSubTotal</th>\n",
       "      <th>orderStatus</th>\n",
       "      <th>orderDate</th>\n",
       "    </tr>\n",
       "  </thead>\n",
       "  <tbody>\n",
       "    <tr>\n",
       "      <th>0</th>\n",
       "      <td>1</td>\n",
       "      <td>957</td>\n",
       "      <td>299.98</td>\n",
       "      <td>CLOSED</td>\n",
       "      <td>2013-07-25 00:00:00.0</td>\n",
       "    </tr>\n",
       "    <tr>\n",
       "      <th>1</th>\n",
       "      <td>2</td>\n",
       "      <td>1073</td>\n",
       "      <td>199.99</td>\n",
       "      <td>PENDING_PAYMENT</td>\n",
       "      <td>2013-07-25 00:00:00.0</td>\n",
       "    </tr>\n",
       "    <tr>\n",
       "      <th>2</th>\n",
       "      <td>2</td>\n",
       "      <td>502</td>\n",
       "      <td>250.00</td>\n",
       "      <td>PENDING_PAYMENT</td>\n",
       "      <td>2013-07-25 00:00:00.0</td>\n",
       "    </tr>\n",
       "    <tr>\n",
       "      <th>3</th>\n",
       "      <td>2</td>\n",
       "      <td>403</td>\n",
       "      <td>129.99</td>\n",
       "      <td>PENDING_PAYMENT</td>\n",
       "      <td>2013-07-25 00:00:00.0</td>\n",
       "    </tr>\n",
       "    <tr>\n",
       "      <th>4</th>\n",
       "      <td>4</td>\n",
       "      <td>897</td>\n",
       "      <td>49.98</td>\n",
       "      <td>CLOSED</td>\n",
       "      <td>2013-07-25 00:00:00.0</td>\n",
       "    </tr>\n",
       "  </tbody>\n",
       "</table>\n",
       "</div>"
      ],
      "text/plain": [
       "   orderId  orderItemProductId  orderItemSubTotal      orderStatus  \\\n",
       "0        1                 957             299.98           CLOSED   \n",
       "1        2                1073             199.99  PENDING_PAYMENT   \n",
       "2        2                 502             250.00  PENDING_PAYMENT   \n",
       "3        2                 403             129.99  PENDING_PAYMENT   \n",
       "4        4                 897              49.98           CLOSED   \n",
       "\n",
       "               orderDate  \n",
       "0  2013-07-25 00:00:00.0  \n",
       "1  2013-07-25 00:00:00.0  \n",
       "2  2013-07-25 00:00:00.0  \n",
       "3  2013-07-25 00:00:00.0  \n",
       "4  2013-07-25 00:00:00.0  "
      ]
     },
     "execution_count": 73,
     "metadata": {},
     "output_type": "execute_result"
    }
   ],
   "source": [
    "orders_and_items_date = order_items.join(orders, order_items['orderItemOrderId'] == orders['orderId']) \\\n",
    "                                   .select(\"orderId\",\"orderItemProductId\",\"orderItemSubTotal\",\"orderStatus\",\"orderDate\")\n",
    "\n",
    "orders_and_items_date.limit(5).toPandas().head()"
   ]
  },
  {
   "cell_type": "code",
   "execution_count": 74,
   "id": "3a5e320a-06a5-441a-8756-1cfd22ede701",
   "metadata": {
    "tags": []
   },
   "outputs": [
    {
     "data": {
      "text/html": [
       "<div>\n",
       "<style scoped>\n",
       "    .dataframe tbody tr th:only-of-type {\n",
       "        vertical-align: middle;\n",
       "    }\n",
       "\n",
       "    .dataframe tbody tr th {\n",
       "        vertical-align: top;\n",
       "    }\n",
       "\n",
       "    .dataframe thead th {\n",
       "        text-align: right;\n",
       "    }\n",
       "</style>\n",
       "<table border=\"1\" class=\"dataframe\">\n",
       "  <thead>\n",
       "    <tr style=\"text-align: right;\">\n",
       "      <th></th>\n",
       "      <th>orderId</th>\n",
       "      <th>orderItemProductId</th>\n",
       "      <th>orderItemSubTotal</th>\n",
       "      <th>orderStatus</th>\n",
       "      <th>orderDate</th>\n",
       "      <th>Year</th>\n",
       "      <th>Month</th>\n",
       "    </tr>\n",
       "  </thead>\n",
       "  <tbody>\n",
       "    <tr>\n",
       "      <th>0</th>\n",
       "      <td>1</td>\n",
       "      <td>957</td>\n",
       "      <td>299.98</td>\n",
       "      <td>CLOSED</td>\n",
       "      <td>2013-07-25</td>\n",
       "      <td>2013</td>\n",
       "      <td>7</td>\n",
       "    </tr>\n",
       "    <tr>\n",
       "      <th>1</th>\n",
       "      <td>2</td>\n",
       "      <td>1073</td>\n",
       "      <td>199.99</td>\n",
       "      <td>PENDING_PAYMENT</td>\n",
       "      <td>2013-07-25</td>\n",
       "      <td>2013</td>\n",
       "      <td>7</td>\n",
       "    </tr>\n",
       "    <tr>\n",
       "      <th>2</th>\n",
       "      <td>2</td>\n",
       "      <td>502</td>\n",
       "      <td>250.00</td>\n",
       "      <td>PENDING_PAYMENT</td>\n",
       "      <td>2013-07-25</td>\n",
       "      <td>2013</td>\n",
       "      <td>7</td>\n",
       "    </tr>\n",
       "    <tr>\n",
       "      <th>3</th>\n",
       "      <td>2</td>\n",
       "      <td>403</td>\n",
       "      <td>129.99</td>\n",
       "      <td>PENDING_PAYMENT</td>\n",
       "      <td>2013-07-25</td>\n",
       "      <td>2013</td>\n",
       "      <td>7</td>\n",
       "    </tr>\n",
       "    <tr>\n",
       "      <th>4</th>\n",
       "      <td>4</td>\n",
       "      <td>897</td>\n",
       "      <td>49.98</td>\n",
       "      <td>CLOSED</td>\n",
       "      <td>2013-07-25</td>\n",
       "      <td>2013</td>\n",
       "      <td>7</td>\n",
       "    </tr>\n",
       "  </tbody>\n",
       "</table>\n",
       "</div>"
      ],
      "text/plain": [
       "   orderId  orderItemProductId  orderItemSubTotal      orderStatus  orderDate  \\\n",
       "0        1                 957             299.98           CLOSED 2013-07-25   \n",
       "1        2                1073             199.99  PENDING_PAYMENT 2013-07-25   \n",
       "2        2                 502             250.00  PENDING_PAYMENT 2013-07-25   \n",
       "3        2                 403             129.99  PENDING_PAYMENT 2013-07-25   \n",
       "4        4                 897              49.98           CLOSED 2013-07-25   \n",
       "\n",
       "   Year  Month  \n",
       "0  2013      7  \n",
       "1  2013      7  \n",
       "2  2013      7  \n",
       "3  2013      7  \n",
       "4  2013      7  "
      ]
     },
     "execution_count": 74,
     "metadata": {},
     "output_type": "execute_result"
    }
   ],
   "source": [
    "df_year_and_month = orders_and_items_date.withColumn(\"orderDate\", \n",
    "                                        F.to_timestamp(F.col(\"orderDate\"), \"yyyy-MM-dd HH:mm:ss.S\")) \\\n",
    "                                         .withColumn(\"Year\", F.year(F.col(\"orderDate\"))) \\\n",
    "                                         .withColumn(\"Month\", F.month(F.col(\"orderDate\")))\n",
    "\n",
    "df_year_and_month.limit(5).toPandas()"
   ]
  },
  {
   "cell_type": "code",
   "execution_count": 75,
   "id": "b5956c97-2e24-4d14-8763-f18f537c18f2",
   "metadata": {
    "tags": []
   },
   "outputs": [
    {
     "name": "stderr",
     "output_type": "stream",
     "text": [
      "                                                                                \r"
     ]
    },
    {
     "data": {
      "text/html": [
       "<div>\n",
       "<style scoped>\n",
       "    .dataframe tbody tr th:only-of-type {\n",
       "        vertical-align: middle;\n",
       "    }\n",
       "\n",
       "    .dataframe tbody tr th {\n",
       "        vertical-align: top;\n",
       "    }\n",
       "\n",
       "    .dataframe thead th {\n",
       "        text-align: right;\n",
       "    }\n",
       "</style>\n",
       "<table border=\"1\" class=\"dataframe\">\n",
       "  <thead>\n",
       "    <tr style=\"text-align: right;\">\n",
       "      <th></th>\n",
       "      <th>Year</th>\n",
       "      <th>Month</th>\n",
       "      <th>Sum_SubTotal</th>\n",
       "    </tr>\n",
       "  </thead>\n",
       "  <tbody>\n",
       "    <tr>\n",
       "      <th>0</th>\n",
       "      <td>2013</td>\n",
       "      <td>11</td>\n",
       "      <td>3105843.27</td>\n",
       "    </tr>\n",
       "    <tr>\n",
       "      <th>1</th>\n",
       "      <td>2014</td>\n",
       "      <td>1</td>\n",
       "      <td>2870834.18</td>\n",
       "    </tr>\n",
       "    <tr>\n",
       "      <th>2</th>\n",
       "      <td>2013</td>\n",
       "      <td>12</td>\n",
       "      <td>2869997.88</td>\n",
       "    </tr>\n",
       "    <tr>\n",
       "      <th>3</th>\n",
       "      <td>2013</td>\n",
       "      <td>9</td>\n",
       "      <td>2866553.33</td>\n",
       "    </tr>\n",
       "    <tr>\n",
       "      <th>4</th>\n",
       "      <td>2014</td>\n",
       "      <td>3</td>\n",
       "      <td>2805006.32</td>\n",
       "    </tr>\n",
       "    <tr>\n",
       "      <th>5</th>\n",
       "      <td>2013</td>\n",
       "      <td>8</td>\n",
       "      <td>2769236.03</td>\n",
       "    </tr>\n",
       "    <tr>\n",
       "      <th>6</th>\n",
       "      <td>2014</td>\n",
       "      <td>4</td>\n",
       "      <td>2758912.47</td>\n",
       "    </tr>\n",
       "    <tr>\n",
       "      <th>7</th>\n",
       "      <td>2014</td>\n",
       "      <td>2</td>\n",
       "      <td>2712838.58</td>\n",
       "    </tr>\n",
       "    <tr>\n",
       "      <th>8</th>\n",
       "      <td>2014</td>\n",
       "      <td>5</td>\n",
       "      <td>2695699.48</td>\n",
       "    </tr>\n",
       "    <tr>\n",
       "      <th>9</th>\n",
       "      <td>2014</td>\n",
       "      <td>6</td>\n",
       "      <td>2657013.04</td>\n",
       "    </tr>\n",
       "  </tbody>\n",
       "</table>\n",
       "</div>"
      ],
      "text/plain": [
       "   Year  Month  Sum_SubTotal\n",
       "0  2013     11    3105843.27\n",
       "1  2014      1    2870834.18\n",
       "2  2013     12    2869997.88\n",
       "3  2013      9    2866553.33\n",
       "4  2014      3    2805006.32\n",
       "5  2013      8    2769236.03\n",
       "6  2014      4    2758912.47\n",
       "7  2014      2    2712838.58\n",
       "8  2014      5    2695699.48\n",
       "9  2014      6    2657013.04"
      ]
     },
     "execution_count": 75,
     "metadata": {},
     "output_type": "execute_result"
    }
   ],
   "source": [
    "df_year_and_month.filter(\"orderStatus not in ('CANCELED')\") \\\n",
    "                 .groupBy('Year','Month').agg(F.sum(\"orderItemSubTotal\").alias(\"Sum_SubTotal\")) \\\n",
    "                 .orderBy(F.desc(\"Sum_SubTotal\")) \\\n",
    "                 .limit(10).toPandas()"
   ]
  },
  {
   "cell_type": "code",
   "execution_count": 76,
   "id": "2bca3023-feff-4aa9-9d06-a502680e17e4",
   "metadata": {
    "tags": []
   },
   "outputs": [],
   "source": [
    "def month_to_turkish(input_month):\n",
    "    month_converter = {\n",
    "        1: \"Ocak\",\n",
    "        2: \"Şubat\",\n",
    "        3: \"Mart\",\n",
    "        4: \"Nisan\",\n",
    "        5: \"Mayıs\",\n",
    "        6: \"Haziran\",\n",
    "        7: \"Temmuz\",\n",
    "        8: \"Ağustos\",\n",
    "        9: \"Eylül\",\n",
    "        10: \"Ekim\",\n",
    "        11: \"Kasım\",\n",
    "        12: \"Aralık\"\n",
    "    }\n",
    "    \n",
    "    return month_converter.get(input_month)"
   ]
  },
  {
   "cell_type": "code",
   "execution_count": 77,
   "id": "c427527e-c333-4298-95e4-969821c8cd1f",
   "metadata": {
    "tags": []
   },
   "outputs": [
    {
     "data": {
      "text/plain": [
       "'Temmuz'"
      ]
     },
     "execution_count": 77,
     "metadata": {},
     "output_type": "execute_result"
    }
   ],
   "source": [
    "month_to_turkish(7)"
   ]
  },
  {
   "cell_type": "code",
   "execution_count": 78,
   "id": "11278f95-61ab-403b-b0d0-92214d1af728",
   "metadata": {
    "tags": []
   },
   "outputs": [],
   "source": [
    "month_to_turkish_udf = spark.udf.register(\"month_to_turkish_udf\", month_to_turkish, StringType())"
   ]
  },
  {
   "cell_type": "code",
   "execution_count": 79,
   "id": "9e8bec19-4643-457d-b216-f66463e55bb1",
   "metadata": {
    "tags": []
   },
   "outputs": [
    {
     "name": "stderr",
     "output_type": "stream",
     "text": [
      "                                                                                \r"
     ]
    },
    {
     "data": {
      "text/html": [
       "<div>\n",
       "<style scoped>\n",
       "    .dataframe tbody tr th:only-of-type {\n",
       "        vertical-align: middle;\n",
       "    }\n",
       "\n",
       "    .dataframe tbody tr th {\n",
       "        vertical-align: top;\n",
       "    }\n",
       "\n",
       "    .dataframe thead th {\n",
       "        text-align: right;\n",
       "    }\n",
       "</style>\n",
       "<table border=\"1\" class=\"dataframe\">\n",
       "  <thead>\n",
       "    <tr style=\"text-align: right;\">\n",
       "      <th></th>\n",
       "      <th>Year</th>\n",
       "      <th>Month</th>\n",
       "      <th>Sum_SubTotal</th>\n",
       "      <th>Month_TR</th>\n",
       "    </tr>\n",
       "  </thead>\n",
       "  <tbody>\n",
       "    <tr>\n",
       "      <th>0</th>\n",
       "      <td>2013</td>\n",
       "      <td>11</td>\n",
       "      <td>3105843.27</td>\n",
       "      <td>Kasım</td>\n",
       "    </tr>\n",
       "    <tr>\n",
       "      <th>1</th>\n",
       "      <td>2014</td>\n",
       "      <td>1</td>\n",
       "      <td>2870834.18</td>\n",
       "      <td>Ocak</td>\n",
       "    </tr>\n",
       "    <tr>\n",
       "      <th>2</th>\n",
       "      <td>2013</td>\n",
       "      <td>12</td>\n",
       "      <td>2869997.88</td>\n",
       "      <td>Aralık</td>\n",
       "    </tr>\n",
       "    <tr>\n",
       "      <th>3</th>\n",
       "      <td>2013</td>\n",
       "      <td>9</td>\n",
       "      <td>2866553.33</td>\n",
       "      <td>Eylül</td>\n",
       "    </tr>\n",
       "    <tr>\n",
       "      <th>4</th>\n",
       "      <td>2014</td>\n",
       "      <td>3</td>\n",
       "      <td>2805006.32</td>\n",
       "      <td>Mart</td>\n",
       "    </tr>\n",
       "    <tr>\n",
       "      <th>5</th>\n",
       "      <td>2013</td>\n",
       "      <td>8</td>\n",
       "      <td>2769236.03</td>\n",
       "      <td>Ağustos</td>\n",
       "    </tr>\n",
       "    <tr>\n",
       "      <th>6</th>\n",
       "      <td>2014</td>\n",
       "      <td>4</td>\n",
       "      <td>2758912.47</td>\n",
       "      <td>Nisan</td>\n",
       "    </tr>\n",
       "    <tr>\n",
       "      <th>7</th>\n",
       "      <td>2014</td>\n",
       "      <td>2</td>\n",
       "      <td>2712838.58</td>\n",
       "      <td>Şubat</td>\n",
       "    </tr>\n",
       "    <tr>\n",
       "      <th>8</th>\n",
       "      <td>2014</td>\n",
       "      <td>5</td>\n",
       "      <td>2695699.48</td>\n",
       "      <td>Mayıs</td>\n",
       "    </tr>\n",
       "    <tr>\n",
       "      <th>9</th>\n",
       "      <td>2014</td>\n",
       "      <td>6</td>\n",
       "      <td>2657013.04</td>\n",
       "      <td>Haziran</td>\n",
       "    </tr>\n",
       "  </tbody>\n",
       "</table>\n",
       "</div>"
      ],
      "text/plain": [
       "   Year  Month  Sum_SubTotal Month_TR\n",
       "0  2013     11    3105843.27    Kasım\n",
       "1  2014      1    2870834.18     Ocak\n",
       "2  2013     12    2869997.88   Aralık\n",
       "3  2013      9    2866553.33    Eylül\n",
       "4  2014      3    2805006.32     Mart\n",
       "5  2013      8    2769236.03  Ağustos\n",
       "6  2014      4    2758912.47    Nisan\n",
       "7  2014      2    2712838.58    Şubat\n",
       "8  2014      5    2695699.48    Mayıs\n",
       "9  2014      6    2657013.04  Haziran"
      ]
     },
     "execution_count": 79,
     "metadata": {},
     "output_type": "execute_result"
    }
   ],
   "source": [
    "df_year_and_month.filter(\"orderStatus not in ('CANCELED')\") \\\n",
    "                 .groupBy('Year','Month').agg(F.sum(\"orderItemSubTotal\").alias(\"Sum_SubTotal\")) \\\n",
    "                 .orderBy(F.desc(\"Sum_SubTotal\")) \\\n",
    "                 .withColumn(\"Month_TR\", month_to_turkish_udf(F.col(\"Month\"))) \\\n",
    "                 .limit(10).toPandas()"
   ]
  },
  {
   "cell_type": "markdown",
   "id": "f3e4e7a5-524f-45ce-8216-2ca773958ed6",
   "metadata": {},
   "source": [
    "# Q6 \n",
    "\n",
    " On which day of the week (in Turkish) was the highest total sales?"
   ]
  },
  {
   "cell_type": "code",
   "execution_count": 87,
   "id": "a430b783-1297-405b-8e89-6be4987e1724",
   "metadata": {
    "tags": []
   },
   "outputs": [
    {
     "data": {
      "text/html": [
       "<div>\n",
       "<style scoped>\n",
       "    .dataframe tbody tr th:only-of-type {\n",
       "        vertical-align: middle;\n",
       "    }\n",
       "\n",
       "    .dataframe tbody tr th {\n",
       "        vertical-align: top;\n",
       "    }\n",
       "\n",
       "    .dataframe thead th {\n",
       "        text-align: right;\n",
       "    }\n",
       "</style>\n",
       "<table border=\"1\" class=\"dataframe\">\n",
       "  <thead>\n",
       "    <tr style=\"text-align: right;\">\n",
       "      <th></th>\n",
       "      <th>orderId</th>\n",
       "      <th>orderItemProductId</th>\n",
       "      <th>orderItemSubTotal</th>\n",
       "      <th>orderStatus</th>\n",
       "      <th>orderDate</th>\n",
       "      <th>Day</th>\n",
       "    </tr>\n",
       "  </thead>\n",
       "  <tbody>\n",
       "    <tr>\n",
       "      <th>0</th>\n",
       "      <td>1</td>\n",
       "      <td>957</td>\n",
       "      <td>299.98</td>\n",
       "      <td>CLOSED</td>\n",
       "      <td>2013-07-25</td>\n",
       "      <td>5</td>\n",
       "    </tr>\n",
       "    <tr>\n",
       "      <th>1</th>\n",
       "      <td>2</td>\n",
       "      <td>1073</td>\n",
       "      <td>199.99</td>\n",
       "      <td>PENDING_PAYMENT</td>\n",
       "      <td>2013-07-25</td>\n",
       "      <td>5</td>\n",
       "    </tr>\n",
       "    <tr>\n",
       "      <th>2</th>\n",
       "      <td>2</td>\n",
       "      <td>502</td>\n",
       "      <td>250.00</td>\n",
       "      <td>PENDING_PAYMENT</td>\n",
       "      <td>2013-07-25</td>\n",
       "      <td>5</td>\n",
       "    </tr>\n",
       "    <tr>\n",
       "      <th>3</th>\n",
       "      <td>2</td>\n",
       "      <td>403</td>\n",
       "      <td>129.99</td>\n",
       "      <td>PENDING_PAYMENT</td>\n",
       "      <td>2013-07-25</td>\n",
       "      <td>5</td>\n",
       "    </tr>\n",
       "    <tr>\n",
       "      <th>4</th>\n",
       "      <td>4</td>\n",
       "      <td>897</td>\n",
       "      <td>49.98</td>\n",
       "      <td>CLOSED</td>\n",
       "      <td>2013-07-25</td>\n",
       "      <td>5</td>\n",
       "    </tr>\n",
       "  </tbody>\n",
       "</table>\n",
       "</div>"
      ],
      "text/plain": [
       "   orderId  orderItemProductId  orderItemSubTotal      orderStatus  orderDate  \\\n",
       "0        1                 957             299.98           CLOSED 2013-07-25   \n",
       "1        2                1073             199.99  PENDING_PAYMENT 2013-07-25   \n",
       "2        2                 502             250.00  PENDING_PAYMENT 2013-07-25   \n",
       "3        2                 403             129.99  PENDING_PAYMENT 2013-07-25   \n",
       "4        4                 897              49.98           CLOSED 2013-07-25   \n",
       "\n",
       "   Day  \n",
       "0    5  \n",
       "1    5  \n",
       "2    5  \n",
       "3    5  \n",
       "4    5  "
      ]
     },
     "execution_count": 87,
     "metadata": {},
     "output_type": "execute_result"
    }
   ],
   "source": [
    "df_day_of_week = orders_and_items_date.withColumn(\"orderDate\", \n",
    "                                     F.to_timestamp(F.col(\"orderDate\"), \"yyyy-MM-dd HH:mm:ss.S\")) \\\n",
    "                                      .withColumn(\"Day\", F.dayofweek(F.col(\"orderDate\")))\n",
    "\n",
    "df_day_of_week.limit(5).toPandas()"
   ]
  },
  {
   "cell_type": "code",
   "execution_count": 88,
   "id": "b1fb8054-58ee-4e95-8f55-322ad09d0ba9",
   "metadata": {
    "tags": []
   },
   "outputs": [
    {
     "name": "stderr",
     "output_type": "stream",
     "text": [
      "                                                                                \r"
     ]
    },
    {
     "data": {
      "text/html": [
       "<div>\n",
       "<style scoped>\n",
       "    .dataframe tbody tr th:only-of-type {\n",
       "        vertical-align: middle;\n",
       "    }\n",
       "\n",
       "    .dataframe tbody tr th {\n",
       "        vertical-align: top;\n",
       "    }\n",
       "\n",
       "    .dataframe thead th {\n",
       "        text-align: right;\n",
       "    }\n",
       "</style>\n",
       "<table border=\"1\" class=\"dataframe\">\n",
       "  <thead>\n",
       "    <tr style=\"text-align: right;\">\n",
       "      <th></th>\n",
       "      <th>Day</th>\n",
       "      <th>Sum_SubTotal</th>\n",
       "    </tr>\n",
       "  </thead>\n",
       "  <tbody>\n",
       "    <tr>\n",
       "      <th>0</th>\n",
       "      <td>6</td>\n",
       "      <td>5.065099e+06</td>\n",
       "    </tr>\n",
       "    <tr>\n",
       "      <th>1</th>\n",
       "      <td>5</td>\n",
       "      <td>4.878165e+06</td>\n",
       "    </tr>\n",
       "    <tr>\n",
       "      <th>2</th>\n",
       "      <td>7</td>\n",
       "      <td>4.862228e+06</td>\n",
       "    </tr>\n",
       "    <tr>\n",
       "      <th>3</th>\n",
       "      <td>3</td>\n",
       "      <td>4.809500e+06</td>\n",
       "    </tr>\n",
       "    <tr>\n",
       "      <th>4</th>\n",
       "      <td>4</td>\n",
       "      <td>4.805157e+06</td>\n",
       "    </tr>\n",
       "    <tr>\n",
       "      <th>5</th>\n",
       "      <td>1</td>\n",
       "      <td>4.750555e+06</td>\n",
       "    </tr>\n",
       "    <tr>\n",
       "      <th>6</th>\n",
       "      <td>2</td>\n",
       "      <td>4.455886e+06</td>\n",
       "    </tr>\n",
       "  </tbody>\n",
       "</table>\n",
       "</div>"
      ],
      "text/plain": [
       "   Day  Sum_SubTotal\n",
       "0    6  5.065099e+06\n",
       "1    5  4.878165e+06\n",
       "2    7  4.862228e+06\n",
       "3    3  4.809500e+06\n",
       "4    4  4.805157e+06\n",
       "5    1  4.750555e+06\n",
       "6    2  4.455886e+06"
      ]
     },
     "execution_count": 88,
     "metadata": {},
     "output_type": "execute_result"
    }
   ],
   "source": [
    "df_day_of_week.filter(\"orderStatus not in ('CANCELED')\") \\\n",
    "              .groupBy('Day').agg(F.sum(\"orderItemSubTotal\").alias(\"Sum_SubTotal\")) \\\n",
    "              .orderBy(F.desc(\"Sum_SubTotal\")) \\\n",
    "              .limit(10).toPandas()"
   ]
  },
  {
   "cell_type": "code",
   "execution_count": 89,
   "id": "31f83247-47ef-486f-bb63-cc941cfa726f",
   "metadata": {
    "tags": []
   },
   "outputs": [],
   "source": [
    "# convert day to TR with udf\n",
    "def day_to_turkish(input_day):\n",
    "    day_converter = {\n",
    "        1: \"Pazartesi\",\n",
    "        2: \"Salı\",\n",
    "        3: \"Çarşamba\",\n",
    "        4: \"Perşembe\",\n",
    "        5: \"Cuma\",\n",
    "        6: \"Cumartesi\",\n",
    "        7: \"Pazar\"\n",
    "    }\n",
    "    \n",
    "    return day_converter.get(input_day)"
   ]
  },
  {
   "cell_type": "code",
   "execution_count": 90,
   "id": "b9085980-840a-4c55-93c5-21a85764a204",
   "metadata": {
    "tags": []
   },
   "outputs": [
    {
     "data": {
      "text/plain": [
       "'Pazar'"
      ]
     },
     "execution_count": 90,
     "metadata": {},
     "output_type": "execute_result"
    }
   ],
   "source": [
    "day_to_turkish(7)"
   ]
  },
  {
   "cell_type": "code",
   "execution_count": 83,
   "id": "c273af6d-5817-4914-92d5-e00830710599",
   "metadata": {
    "tags": []
   },
   "outputs": [],
   "source": [
    "day_to_turkish_udf = spark.udf.register(\"day_to_turkish_udf\", day_to_turkish, StringType())"
   ]
  },
  {
   "cell_type": "code",
   "execution_count": 84,
   "id": "faf49f50-74eb-4fe3-aeba-d5fc3474a584",
   "metadata": {
    "tags": []
   },
   "outputs": [
    {
     "name": "stderr",
     "output_type": "stream",
     "text": [
      "                                                                                \r"
     ]
    },
    {
     "data": {
      "text/html": [
       "<div>\n",
       "<style scoped>\n",
       "    .dataframe tbody tr th:only-of-type {\n",
       "        vertical-align: middle;\n",
       "    }\n",
       "\n",
       "    .dataframe tbody tr th {\n",
       "        vertical-align: top;\n",
       "    }\n",
       "\n",
       "    .dataframe thead th {\n",
       "        text-align: right;\n",
       "    }\n",
       "</style>\n",
       "<table border=\"1\" class=\"dataframe\">\n",
       "  <thead>\n",
       "    <tr style=\"text-align: right;\">\n",
       "      <th></th>\n",
       "      <th>Day</th>\n",
       "      <th>Sum_SubTotal</th>\n",
       "      <th>Day_TR</th>\n",
       "    </tr>\n",
       "  </thead>\n",
       "  <tbody>\n",
       "    <tr>\n",
       "      <th>0</th>\n",
       "      <td>6</td>\n",
       "      <td>5.065099e+06</td>\n",
       "      <td>Cumartesi</td>\n",
       "    </tr>\n",
       "    <tr>\n",
       "      <th>1</th>\n",
       "      <td>5</td>\n",
       "      <td>4.878165e+06</td>\n",
       "      <td>Cuma</td>\n",
       "    </tr>\n",
       "    <tr>\n",
       "      <th>2</th>\n",
       "      <td>7</td>\n",
       "      <td>4.862228e+06</td>\n",
       "      <td>Pazar</td>\n",
       "    </tr>\n",
       "    <tr>\n",
       "      <th>3</th>\n",
       "      <td>3</td>\n",
       "      <td>4.809500e+06</td>\n",
       "      <td>Çarşamba</td>\n",
       "    </tr>\n",
       "    <tr>\n",
       "      <th>4</th>\n",
       "      <td>4</td>\n",
       "      <td>4.805157e+06</td>\n",
       "      <td>Perşembe</td>\n",
       "    </tr>\n",
       "    <tr>\n",
       "      <th>5</th>\n",
       "      <td>1</td>\n",
       "      <td>4.750555e+06</td>\n",
       "      <td>Pazartesi</td>\n",
       "    </tr>\n",
       "    <tr>\n",
       "      <th>6</th>\n",
       "      <td>2</td>\n",
       "      <td>4.455886e+06</td>\n",
       "      <td>Salı</td>\n",
       "    </tr>\n",
       "  </tbody>\n",
       "</table>\n",
       "</div>"
      ],
      "text/plain": [
       "   Day  Sum_SubTotal     Day_TR\n",
       "0    6  5.065099e+06  Cumartesi\n",
       "1    5  4.878165e+06       Cuma\n",
       "2    7  4.862228e+06      Pazar\n",
       "3    3  4.809500e+06   Çarşamba\n",
       "4    4  4.805157e+06   Perşembe\n",
       "5    1  4.750555e+06  Pazartesi\n",
       "6    2  4.455886e+06       Salı"
      ]
     },
     "execution_count": 84,
     "metadata": {},
     "output_type": "execute_result"
    }
   ],
   "source": [
    "df_day_of_week.filter(\"orderStatus not in ('CANCELED')\") \\\n",
    "              .groupBy('Day').agg(F.sum(\"orderItemSubTotal\").alias(\"Sum_SubTotal\")) \\\n",
    "              .orderBy(F.desc(\"Sum_SubTotal\")) \\\n",
    "              .withColumn(\"Day_TR\",day_to_turkish_udf(F.col(\"Day\"))) \\\n",
    "              .limit(10).toPandas()"
   ]
  },
  {
   "cell_type": "markdown",
   "id": "2e52375f-a4b6-4a34-9174-a050a7f62442",
   "metadata": {},
   "source": [
    "# Q7.\n",
    "Create the largest possible table from all these tables and write it in a table called retail_all in the hive test1 database."
   ]
  },
  {
   "cell_type": "code",
   "execution_count": 85,
   "id": "16a42148-266c-4199-bff6-74c0c84a244d",
   "metadata": {
    "tags": []
   },
   "outputs": [],
   "source": [
    "# Step1 We will join categories and departments table\n",
    "\n",
    "# Step2 We will join order and orders_items table \n",
    "\n",
    "# Step3 We will join result of step1 and step2"
   ]
  },
  {
   "cell_type": "code",
   "execution_count": 86,
   "id": "f79b51a7-8342-44bf-8a38-58dc0cbe09f5",
   "metadata": {
    "tags": []
   },
   "outputs": [
    {
     "name": "stdout",
     "output_type": "stream",
     "text": [
      "categories.csv\tdepartments.csv  orders.csv\n",
      "customers.csv\torder_items.csv  products.csv\n"
     ]
    }
   ],
   "source": [
    "! ls /home/train/datasets/retail_db/"
   ]
  },
  {
   "cell_type": "code",
   "execution_count": 91,
   "id": "1ac308e7-9323-46e2-991d-e721f9955944",
   "metadata": {
    "tags": []
   },
   "outputs": [
    {
     "data": {
      "text/html": [
       "<div>\n",
       "<style scoped>\n",
       "    .dataframe tbody tr th:only-of-type {\n",
       "        vertical-align: middle;\n",
       "    }\n",
       "\n",
       "    .dataframe tbody tr th {\n",
       "        vertical-align: top;\n",
       "    }\n",
       "\n",
       "    .dataframe thead th {\n",
       "        text-align: right;\n",
       "    }\n",
       "</style>\n",
       "<table border=\"1\" class=\"dataframe\">\n",
       "  <thead>\n",
       "    <tr style=\"text-align: right;\">\n",
       "      <th></th>\n",
       "      <th>productId</th>\n",
       "      <th>productCategoryId</th>\n",
       "      <th>productName</th>\n",
       "      <th>productDescription</th>\n",
       "      <th>productPrice</th>\n",
       "      <th>productImage</th>\n",
       "      <th>categoryId</th>\n",
       "      <th>categoryDepartmentId</th>\n",
       "      <th>categoryName</th>\n",
       "      <th>departmentId</th>\n",
       "      <th>departmentName</th>\n",
       "    </tr>\n",
       "  </thead>\n",
       "  <tbody>\n",
       "    <tr>\n",
       "      <th>0</th>\n",
       "      <td>1</td>\n",
       "      <td>2</td>\n",
       "      <td>Quest Q64 10 FT. x 10 FT. Slant Leg Instant U</td>\n",
       "      <td>None</td>\n",
       "      <td>59.98</td>\n",
       "      <td>http://images.acmesports.sports/Quest+Q64+10+F...</td>\n",
       "      <td>2</td>\n",
       "      <td>2</td>\n",
       "      <td>Soccer</td>\n",
       "      <td>2</td>\n",
       "      <td>Fitness</td>\n",
       "    </tr>\n",
       "  </tbody>\n",
       "</table>\n",
       "</div>"
      ],
      "text/plain": [
       "   productId  productCategoryId  \\\n",
       "0          1                  2   \n",
       "\n",
       "                                     productName productDescription  \\\n",
       "0  Quest Q64 10 FT. x 10 FT. Slant Leg Instant U               None   \n",
       "\n",
       "   productPrice                                       productImage  \\\n",
       "0         59.98  http://images.acmesports.sports/Quest+Q64+10+F...   \n",
       "\n",
       "   categoryId  categoryDepartmentId categoryName  departmentId departmentName  \n",
       "0           2                     2       Soccer             2        Fitness  "
      ]
     },
     "execution_count": 91,
     "metadata": {},
     "output_type": "execute_result"
    }
   ],
   "source": [
    "cat_dep_prod = products.join(categories, products.productCategoryId == categories.categoryId, \"left\") \\\n",
    "                       .join(departments, categories.categoryDepartmentId == departments.departmentId, \"left\")\n",
    "\n",
    "\n",
    "cat_dep_prod.limit(1).toPandas()"
   ]
  },
  {
   "cell_type": "code",
   "execution_count": 92,
   "id": "3fb595e4-4935-4b48-a27a-4d3696b8b4d8",
   "metadata": {
    "tags": []
   },
   "outputs": [
    {
     "data": {
      "text/plain": [
       "1345"
      ]
     },
     "execution_count": 92,
     "metadata": {},
     "output_type": "execute_result"
    }
   ],
   "source": [
    "cat_dep_prod.count()"
   ]
  },
  {
   "cell_type": "code",
   "execution_count": 93,
   "id": "22254a0f-3b11-473b-8243-4959c9f48ca4",
   "metadata": {
    "tags": []
   },
   "outputs": [
    {
     "name": "stderr",
     "output_type": "stream",
     "text": [
      "                                                                                \r"
     ]
    },
    {
     "data": {
      "text/html": [
       "<div>\n",
       "<style scoped>\n",
       "    .dataframe tbody tr th:only-of-type {\n",
       "        vertical-align: middle;\n",
       "    }\n",
       "\n",
       "    .dataframe tbody tr th {\n",
       "        vertical-align: top;\n",
       "    }\n",
       "\n",
       "    .dataframe thead th {\n",
       "        text-align: right;\n",
       "    }\n",
       "</style>\n",
       "<table border=\"1\" class=\"dataframe\">\n",
       "  <thead>\n",
       "    <tr style=\"text-align: right;\">\n",
       "      <th></th>\n",
       "      <th>orderItemName</th>\n",
       "      <th>orderItemOrderId</th>\n",
       "      <th>orderItemProductId</th>\n",
       "      <th>orderItemQuantity</th>\n",
       "      <th>orderItemSubTotal</th>\n",
       "      <th>orderItemProductPrice</th>\n",
       "      <th>orderId</th>\n",
       "      <th>orderDate</th>\n",
       "      <th>orderCustomerId</th>\n",
       "      <th>orderStatus</th>\n",
       "      <th>customerId</th>\n",
       "      <th>customerFName</th>\n",
       "      <th>customerLName</th>\n",
       "      <th>customerEmail</th>\n",
       "      <th>customerPassword</th>\n",
       "      <th>customerStreet</th>\n",
       "      <th>customerCity</th>\n",
       "      <th>customerState</th>\n",
       "      <th>customerZipcode</th>\n",
       "    </tr>\n",
       "  </thead>\n",
       "  <tbody>\n",
       "    <tr>\n",
       "      <th>0</th>\n",
       "      <td>1</td>\n",
       "      <td>1</td>\n",
       "      <td>957</td>\n",
       "      <td>1</td>\n",
       "      <td>299.98</td>\n",
       "      <td>299.98</td>\n",
       "      <td>1</td>\n",
       "      <td>2013-07-25 00:00:00.0</td>\n",
       "      <td>11599</td>\n",
       "      <td>CLOSED</td>\n",
       "      <td>11599</td>\n",
       "      <td>Mary</td>\n",
       "      <td>Malone</td>\n",
       "      <td>XXXXXXXXX</td>\n",
       "      <td>XXXXXXXXX</td>\n",
       "      <td>8708 Indian Horse Highway</td>\n",
       "      <td>Hickory</td>\n",
       "      <td>NC</td>\n",
       "      <td>28601</td>\n",
       "    </tr>\n",
       "  </tbody>\n",
       "</table>\n",
       "</div>"
      ],
      "text/plain": [
       "   orderItemName  orderItemOrderId  orderItemProductId  orderItemQuantity  \\\n",
       "0              1                 1                 957                  1   \n",
       "\n",
       "   orderItemSubTotal  orderItemProductPrice  orderId              orderDate  \\\n",
       "0             299.98                 299.98        1  2013-07-25 00:00:00.0   \n",
       "\n",
       "   orderCustomerId orderStatus  customerId customerFName customerLName  \\\n",
       "0            11599      CLOSED       11599          Mary        Malone   \n",
       "\n",
       "  customerEmail customerPassword             customerStreet customerCity  \\\n",
       "0     XXXXXXXXX        XXXXXXXXX  8708 Indian Horse Highway      Hickory   \n",
       "\n",
       "  customerState  customerZipcode  \n",
       "0            NC            28601  "
      ]
     },
     "execution_count": 93,
     "metadata": {},
     "output_type": "execute_result"
    }
   ],
   "source": [
    "orders_and_items_cust = order_items.join(orders, order_items['orderItemOrderId'] == orders['orderId']) \\\n",
    "                                   .join(customers, orders.orderCustomerId == customers.customerId)\n",
    " \n",
    "orders_and_items_cust.limit(1).toPandas()"
   ]
  },
  {
   "cell_type": "code",
   "execution_count": 94,
   "id": "6710142f-4323-4480-9710-dbe302267a94",
   "metadata": {
    "tags": []
   },
   "outputs": [
    {
     "data": {
      "text/plain": [
       "172198"
      ]
     },
     "execution_count": 94,
     "metadata": {},
     "output_type": "execute_result"
    }
   ],
   "source": [
    "orders_and_items_cust.count()"
   ]
  },
  {
   "cell_type": "code",
   "execution_count": 95,
   "id": "b0d0f202-c5de-4d81-9608-9bc29d08b362",
   "metadata": {
    "tags": []
   },
   "outputs": [
    {
     "name": "stderr",
     "output_type": "stream",
     "text": [
      "                                                                                \r"
     ]
    },
    {
     "data": {
      "text/html": [
       "<div>\n",
       "<style scoped>\n",
       "    .dataframe tbody tr th:only-of-type {\n",
       "        vertical-align: middle;\n",
       "    }\n",
       "\n",
       "    .dataframe tbody tr th {\n",
       "        vertical-align: top;\n",
       "    }\n",
       "\n",
       "    .dataframe thead th {\n",
       "        text-align: right;\n",
       "    }\n",
       "</style>\n",
       "<table border=\"1\" class=\"dataframe\">\n",
       "  <thead>\n",
       "    <tr style=\"text-align: right;\">\n",
       "      <th></th>\n",
       "      <th>orderItemName</th>\n",
       "      <th>orderItemOrderId</th>\n",
       "      <th>orderItemProductId</th>\n",
       "      <th>orderItemQuantity</th>\n",
       "      <th>orderItemSubTotal</th>\n",
       "      <th>orderItemProductPrice</th>\n",
       "      <th>orderId</th>\n",
       "      <th>orderDate</th>\n",
       "      <th>orderCustomerId</th>\n",
       "      <th>orderStatus</th>\n",
       "      <th>...</th>\n",
       "      <th>productCategoryId</th>\n",
       "      <th>productName</th>\n",
       "      <th>productDescription</th>\n",
       "      <th>productPrice</th>\n",
       "      <th>productImage</th>\n",
       "      <th>categoryId</th>\n",
       "      <th>categoryDepartmentId</th>\n",
       "      <th>categoryName</th>\n",
       "      <th>departmentId</th>\n",
       "      <th>departmentName</th>\n",
       "    </tr>\n",
       "  </thead>\n",
       "  <tbody>\n",
       "    <tr>\n",
       "      <th>0</th>\n",
       "      <td>144513</td>\n",
       "      <td>57760</td>\n",
       "      <td>858</td>\n",
       "      <td>1</td>\n",
       "      <td>199.99</td>\n",
       "      <td>199.99</td>\n",
       "      <td>57760</td>\n",
       "      <td>2013-07-25 00:00:00.0</td>\n",
       "      <td>8330</td>\n",
       "      <td>PENDING_PAYMENT</td>\n",
       "      <td>...</td>\n",
       "      <td>38</td>\n",
       "      <td>GolfBuddy VT3 GPS Watch</td>\n",
       "      <td>None</td>\n",
       "      <td>199.99</td>\n",
       "      <td>http://images.acmesports.sports/GolfBuddy+VT3+...</td>\n",
       "      <td>38</td>\n",
       "      <td>6</td>\n",
       "      <td>Kids' Golf Clubs</td>\n",
       "      <td>6</td>\n",
       "      <td>Outdoors</td>\n",
       "    </tr>\n",
       "    <tr>\n",
       "      <th>1</th>\n",
       "      <td>144738</td>\n",
       "      <td>57847</td>\n",
       "      <td>858</td>\n",
       "      <td>1</td>\n",
       "      <td>199.99</td>\n",
       "      <td>199.99</td>\n",
       "      <td>57847</td>\n",
       "      <td>2013-07-28 00:00:00.0</td>\n",
       "      <td>9548</td>\n",
       "      <td>COMPLETE</td>\n",
       "      <td>...</td>\n",
       "      <td>38</td>\n",
       "      <td>GolfBuddy VT3 GPS Watch</td>\n",
       "      <td>None</td>\n",
       "      <td>199.99</td>\n",
       "      <td>http://images.acmesports.sports/GolfBuddy+VT3+...</td>\n",
       "      <td>38</td>\n",
       "      <td>6</td>\n",
       "      <td>Kids' Golf Clubs</td>\n",
       "      <td>6</td>\n",
       "      <td>Outdoors</td>\n",
       "    </tr>\n",
       "  </tbody>\n",
       "</table>\n",
       "<p>2 rows × 30 columns</p>\n",
       "</div>"
      ],
      "text/plain": [
       "   orderItemName  orderItemOrderId  orderItemProductId  orderItemQuantity  \\\n",
       "0         144513             57760                 858                  1   \n",
       "1         144738             57847                 858                  1   \n",
       "\n",
       "   orderItemSubTotal  orderItemProductPrice  orderId              orderDate  \\\n",
       "0             199.99                 199.99    57760  2013-07-25 00:00:00.0   \n",
       "1             199.99                 199.99    57847  2013-07-28 00:00:00.0   \n",
       "\n",
       "   orderCustomerId      orderStatus  ...  productCategoryId  \\\n",
       "0             8330  PENDING_PAYMENT  ...                 38   \n",
       "1             9548         COMPLETE  ...                 38   \n",
       "\n",
       "               productName productDescription productPrice  \\\n",
       "0  GolfBuddy VT3 GPS Watch               None       199.99   \n",
       "1  GolfBuddy VT3 GPS Watch               None       199.99   \n",
       "\n",
       "                                        productImage categoryId  \\\n",
       "0  http://images.acmesports.sports/GolfBuddy+VT3+...         38   \n",
       "1  http://images.acmesports.sports/GolfBuddy+VT3+...         38   \n",
       "\n",
       "  categoryDepartmentId      categoryName  departmentId  departmentName  \n",
       "0                    6  Kids' Golf Clubs             6        Outdoors  \n",
       "1                    6  Kids' Golf Clubs             6        Outdoors  \n",
       "\n",
       "[2 rows x 30 columns]"
      ]
     },
     "execution_count": 95,
     "metadata": {},
     "output_type": "execute_result"
    }
   ],
   "source": [
    "all_in_one = orders_and_items_cust.join(cat_dep_prod, orders_and_items_cust.orderItemProductId == cat_dep_prod.productId)\n",
    "\n",
    "all_in_one.limit(2).toPandas()"
   ]
  },
  {
   "cell_type": "code",
   "execution_count": 96,
   "id": "f770289e-2be7-48ca-b14d-504276038c30",
   "metadata": {
    "tags": []
   },
   "outputs": [
    {
     "name": "stderr",
     "output_type": "stream",
     "text": [
      "                                                                                \r"
     ]
    },
    {
     "data": {
      "text/plain": [
       "172198"
      ]
     },
     "execution_count": 96,
     "metadata": {},
     "output_type": "execute_result"
    }
   ],
   "source": [
    "all_in_one.count()"
   ]
  },
  {
   "cell_type": "code",
   "execution_count": 97,
   "id": "9bf7c81a-de99-47c9-92ff-104b711c3e62",
   "metadata": {
    "tags": []
   },
   "outputs": [
    {
     "name": "stderr",
     "output_type": "stream",
     "text": [
      "2023-04-18 03:51:32,748 WARN hdfs.DataStreamer: Caught exception (67 + 2) / 200]\n",
      "java.lang.InterruptedException\n",
      "\tat java.base/java.lang.Object.wait(Native Method)\n",
      "\tat java.base/java.lang.Thread.join(Thread.java:1300)\n",
      "\tat java.base/java.lang.Thread.join(Thread.java:1375)\n",
      "\tat org.apache.hadoop.hdfs.DataStreamer.closeResponder(DataStreamer.java:986)\n",
      "\tat org.apache.hadoop.hdfs.DataStreamer.endBlock(DataStreamer.java:640)\n",
      "\tat org.apache.hadoop.hdfs.DataStreamer.run(DataStreamer.java:810)\n",
      "                                                                                \r"
     ]
    }
   ],
   "source": [
    "all_in_one.write.format(\"orc\") \\\n",
    ".mode(\"overwrite\") \\\n",
    ".saveAsTable(\"test1.retail_all\")"
   ]
  }
 ],
 "metadata": {
  "kernelspec": {
   "display_name": "venvspark",
   "language": "python",
   "name": "venvspark"
  },
  "language_info": {
   "codemirror_mode": {
    "name": "ipython",
    "version": 3
   },
   "file_extension": ".py",
   "mimetype": "text/x-python",
   "name": "python",
   "nbconvert_exporter": "python",
   "pygments_lexer": "ipython3",
   "version": "3.8.12"
  }
 },
 "nbformat": 4,
 "nbformat_minor": 5
}
