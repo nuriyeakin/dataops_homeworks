{
 "cells": [
  {
   "cell_type": "markdown",
   "id": "4c823487-09ad-4b33-8305-e4637a8aee9b",
   "metadata": {
    "tags": []
   },
   "source": [
    "### 1. Load the data"
   ]
  },
  {
   "cell_type": "code",
   "execution_count": 1,
   "id": "ddb95ac5-6b64-41dd-8545-5b23b4ff4fcb",
   "metadata": {
    "tags": []
   },
   "outputs": [
    {
     "name": "stdout",
     "output_type": "stream",
     "text": [
      "--2023-04-25 09:20:28--  https://github.com/erkansirin78/datasets/raw/master/market1mil.csv.gz\n",
      "Resolving github.com (github.com)... 140.82.121.3\n",
      "Connecting to github.com (github.com)|140.82.121.3|:443... connected.\n",
      "HTTP request sent, awaiting response... 302 Found\n",
      "Location: https://raw.githubusercontent.com/erkansirin78/datasets/master/market1mil.csv.gz [following]\n",
      "--2023-04-25 09:20:28--  https://raw.githubusercontent.com/erkansirin78/datasets/master/market1mil.csv.gz\n",
      "Resolving raw.githubusercontent.com (raw.githubusercontent.com)... 185.199.111.133, 185.199.108.133, 185.199.109.133, ...\n",
      "Connecting to raw.githubusercontent.com (raw.githubusercontent.com)|185.199.111.133|:443... connected.\n",
      "HTTP request sent, awaiting response... 200 OK\n",
      "Length: 44525776 (42M) [application/octet-stream]\n",
      "Saving to: ‘market1mil.csv.gz’\n",
      "\n",
      "100%[======================================>] 44,525,776  2.35MB/s   in 31s    \n",
      "\n",
      "2023-04-25 09:20:59 (1.39 MB/s) - ‘market1mil.csv.gz’ saved [44525776/44525776]\n",
      "\n"
     ]
    }
   ],
   "source": [
    "! wget https://github.com/erkansirin78/datasets/raw/master/market1mil.csv.gz"
   ]
  },
  {
   "cell_type": "code",
   "execution_count": 2,
   "id": "b4a4d66e-e4c2-4b6a-80ec-d58f3b6752f2",
   "metadata": {
    "tags": []
   },
   "outputs": [],
   "source": [
    "!gzip -d market1mil.csv.gz"
   ]
  },
  {
   "cell_type": "markdown",
   "id": "a42097b9-e8ae-4546-8fc3-da7808b3d93b",
   "metadata": {
    "tags": []
   },
   "source": [
    "### 2.Spark and Elasticsearch Library and Configuration"
   ]
  },
  {
   "cell_type": "code",
   "execution_count": 3,
   "id": "41d85897-799f-4075-acce-8b8138fb0078",
   "metadata": {},
   "outputs": [],
   "source": [
    "import findspark\n",
    "import warnings\n",
    "import pandas as pd\n",
    "warnings.filterwarnings('ignore')\n",
    "from elasticsearch import Elasticsearch, helpers\n",
    "import time\n",
    "from pyspark.sql import SparkSession, functions as F\n",
    "from pyspark.sql.types import *"
   ]
  },
  {
   "cell_type": "code",
   "execution_count": 4,
   "id": "12542d3d-5a17-47d8-9246-2adbef8b44f8",
   "metadata": {
    "tags": []
   },
   "outputs": [],
   "source": [
    "findspark.init(\"/opt/manual/spark\")"
   ]
  },
  {
   "cell_type": "code",
   "execution_count": 5,
   "id": "7d8198a2-0f2a-4b1c-8ff3-becd934c8c81",
   "metadata": {
    "tags": []
   },
   "outputs": [
    {
     "name": "stderr",
     "output_type": "stream",
     "text": [
      "WARNING: An illegal reflective access operation has occurred\n",
      "WARNING: Illegal reflective access by org.apache.spark.unsafe.Platform (file:/opt/manual/spark-3.1.1-bin-hadoop3.2/jars/spark-unsafe_2.12-3.1.1.jar) to constructor java.nio.DirectByteBuffer(long,int)\n",
      "WARNING: Please consider reporting this to the maintainers of org.apache.spark.unsafe.Platform\n",
      "WARNING: Use --illegal-access=warn to enable warnings of further illegal reflective access operations\n",
      "WARNING: All illegal access operations will be denied in a future release\n"
     ]
    },
    {
     "name": "stdout",
     "output_type": "stream",
     "text": [
      ":: loading settings :: url = jar:file:/opt/manual/spark-3.1.1-bin-hadoop3.2/jars/ivy-2.4.0.jar!/org/apache/ivy/core/settings/ivysettings.xml\n"
     ]
    },
    {
     "name": "stderr",
     "output_type": "stream",
     "text": [
      "Ivy Default Cache set to: /home/train/.ivy2/cache\n",
      "The jars for the packages stored in: /home/train/.ivy2/jars\n",
      "org.elasticsearch#elasticsearch-spark-30_2.12 added as a dependency\n",
      ":: resolving dependencies :: org.apache.spark#spark-submit-parent-1ecfd205-29cc-47c6-a409-3c9c0b88ba0a;1.0\n",
      "\tconfs: [default]\n",
      "\tfound org.elasticsearch#elasticsearch-spark-30_2.12;7.12.1 in central\n",
      "\tfound org.scala-lang#scala-reflect;2.12.8 in central\n",
      "\tfound org.slf4j#slf4j-api;1.7.6 in local-m2-cache\n",
      "\tfound commons-logging#commons-logging;1.1.1 in local-m2-cache\n",
      "\tfound javax.xml.bind#jaxb-api;2.3.1 in central\n",
      "\tfound com.google.protobuf#protobuf-java;2.5.0 in local-m2-cache\n",
      "\tfound org.apache.spark#spark-yarn_2.12;3.0.1 in central\n",
      ":: resolution report :: resolve 741ms :: artifacts dl 8ms\n",
      "\t:: modules in use:\n",
      "\tcom.google.protobuf#protobuf-java;2.5.0 from local-m2-cache in [default]\n",
      "\tcommons-logging#commons-logging;1.1.1 from local-m2-cache in [default]\n",
      "\tjavax.xml.bind#jaxb-api;2.3.1 from central in [default]\n",
      "\torg.apache.spark#spark-yarn_2.12;3.0.1 from central in [default]\n",
      "\torg.elasticsearch#elasticsearch-spark-30_2.12;7.12.1 from central in [default]\n",
      "\torg.scala-lang#scala-reflect;2.12.8 from central in [default]\n",
      "\torg.slf4j#slf4j-api;1.7.6 from local-m2-cache in [default]\n",
      "\t---------------------------------------------------------------------\n",
      "\t|                  |            modules            ||   artifacts   |\n",
      "\t|       conf       | number| search|dwnlded|evicted|| number|dwnlded|\n",
      "\t---------------------------------------------------------------------\n",
      "\t|      default     |   7   |   0   |   0   |   0   ||   1   |   0   |\n",
      "\t---------------------------------------------------------------------\n",
      ":: retrieving :: org.apache.spark#spark-submit-parent-1ecfd205-29cc-47c6-a409-3c9c0b88ba0a\n",
      "\tconfs: [default]\n",
      "\t0 artifacts copied, 1 already retrieved (0kB/16ms)\n",
      "2023-04-25 09:21:32,545 WARN util.NativeCodeLoader: Unable to load native-hadoop library for your platform... using builtin-java classes where applicable\n",
      "Setting default log level to \"WARN\".\n",
      "To adjust logging level use sc.setLogLevel(newLevel). For SparkR, use setLogLevel(newLevel).\n"
     ]
    }
   ],
   "source": [
    "spark = (\n",
    "    SparkSession.builder\n",
    "    .appName(\"Spark Elasticsearch\")\n",
    "    .master(\"local[2]\")\n",
    "    .config(\"spark.driver.memory\",\"2048m\")\n",
    "    .config(\"spark.sql.shuffle.partitions\", 4)\n",
    "    .config(\"spark.serializer\", \"org.apache.spark.serializer.KryoSerializer\")\n",
    "    .config(\"spark.jars.packages\", \"org.elasticsearch:elasticsearch-spark-30_2.12:7.12.1\") \n",
    "    .getOrCreate()\n",
    ")"
   ]
  },
  {
   "cell_type": "markdown",
   "id": "1045c8da-f188-45d2-bab7-43adfc9e21f3",
   "metadata": {
    "tags": []
   },
   "source": [
    "### 3. Read Data"
   ]
  },
  {
   "cell_type": "code",
   "execution_count": 6,
   "id": "89694c6e-a02f-44c3-8f4c-4022860367bd",
   "metadata": {
    "tags": []
   },
   "outputs": [
    {
     "name": "stderr",
     "output_type": "stream",
     "text": [
      "                                                                                \r"
     ]
    }
   ],
   "source": [
    "df = spark.read.format(\"csv\") \\\n",
    "          .option(\"header\", True) \\\n",
    "          .option(\"inferSchema\", True) \\\n",
    "          .option(\"sep\", \";\") \\\n",
    "          .load(\"file:////home/train/dataops_homework/7_Week/market1mil.csv\") \\\n",
    "          .select(\"LOGICALREF\", \"ITEMCODE\", \"ITEMNAME\", \"AMOUNT\", \"PRICE\", \"LINENETTOTAL\", \"BRANCH\", \"CITY\", \"BRAND\", \"STARTDATE\", \"LONGITUDE\",\"LATITUDE\") \\\n",
    "          .cache()"
   ]
  },
  {
   "cell_type": "code",
   "execution_count": 7,
   "id": "4a664aa5-75a6-40f7-965c-51836fe5c114",
   "metadata": {
    "tags": []
   },
   "outputs": [
    {
     "name": "stderr",
     "output_type": "stream",
     "text": [
      "                                                                                \r"
     ]
    },
    {
     "data": {
      "text/html": [
       "<div>\n",
       "<style scoped>\n",
       "    .dataframe tbody tr th:only-of-type {\n",
       "        vertical-align: middle;\n",
       "    }\n",
       "\n",
       "    .dataframe tbody tr th {\n",
       "        vertical-align: top;\n",
       "    }\n",
       "\n",
       "    .dataframe thead th {\n",
       "        text-align: right;\n",
       "    }\n",
       "</style>\n",
       "<table border=\"1\" class=\"dataframe\">\n",
       "  <thead>\n",
       "    <tr style=\"text-align: right;\">\n",
       "      <th></th>\n",
       "      <th>LOGICALREF</th>\n",
       "      <th>ITEMCODE</th>\n",
       "      <th>ITEMNAME</th>\n",
       "      <th>AMOUNT</th>\n",
       "      <th>PRICE</th>\n",
       "      <th>LINENETTOTAL</th>\n",
       "      <th>BRANCH</th>\n",
       "      <th>CITY</th>\n",
       "      <th>BRAND</th>\n",
       "      <th>STARTDATE</th>\n",
       "      <th>LONGITUDE</th>\n",
       "      <th>LATITUDE</th>\n",
       "    </tr>\n",
       "  </thead>\n",
       "  <tbody>\n",
       "    <tr>\n",
       "      <th>0</th>\n",
       "      <td>1</td>\n",
       "      <td>8</td>\n",
       "      <td>TOZ SEKER</td>\n",
       "      <td>45</td>\n",
       "      <td>2,65</td>\n",
       "      <td>5,3</td>\n",
       "      <td>Batman Subesi</td>\n",
       "      <td>Batman</td>\n",
       "      <td>None</td>\n",
       "      <td>3.01.2017 09:25</td>\n",
       "      <td>41,1351</td>\n",
       "      <td>37,8812</td>\n",
       "    </tr>\n",
       "    <tr>\n",
       "      <th>1</th>\n",
       "      <td>2</td>\n",
       "      <td>20868</td>\n",
       "      <td>KIRMIZI MERCIMEK</td>\n",
       "      <td>1,006</td>\n",
       "      <td>2,8</td>\n",
       "      <td>2,82</td>\n",
       "      <td>Batman Subesi</td>\n",
       "      <td>Batman</td>\n",
       "      <td>BAKLİYAT</td>\n",
       "      <td>3.01.2017 09:25</td>\n",
       "      <td>41,1351</td>\n",
       "      <td>37,8812</td>\n",
       "    </tr>\n",
       "    <tr>\n",
       "      <th>2</th>\n",
       "      <td>3</td>\n",
       "      <td>8583</td>\n",
       "      <td>TEST MATIK 1,5 KG NORMAL</td>\n",
       "      <td>1</td>\n",
       "      <td>4,95</td>\n",
       "      <td>4,95</td>\n",
       "      <td>Batman Subesi</td>\n",
       "      <td>Batman</td>\n",
       "      <td>TEST</td>\n",
       "      <td>3.01.2017 09:25</td>\n",
       "      <td>41,1351</td>\n",
       "      <td>37,8812</td>\n",
       "    </tr>\n",
       "    <tr>\n",
       "      <th>3</th>\n",
       "      <td>4</td>\n",
       "      <td>1454</td>\n",
       "      <td>BIZIM MAKARNA BONCUK</td>\n",
       "      <td>1</td>\n",
       "      <td>1,1</td>\n",
       "      <td>1,1</td>\n",
       "      <td>Batman Subesi</td>\n",
       "      <td>Batman</td>\n",
       "      <td>ÜLKER</td>\n",
       "      <td>3.01.2017 09:25</td>\n",
       "      <td>41,1351</td>\n",
       "      <td>37,8812</td>\n",
       "    </tr>\n",
       "    <tr>\n",
       "      <th>4</th>\n",
       "      <td>5</td>\n",
       "      <td>13519</td>\n",
       "      <td>FILIZ MAKARNA KISA KESME 500 GR</td>\n",
       "      <td>1</td>\n",
       "      <td>1,1</td>\n",
       "      <td>1,1</td>\n",
       "      <td>Batman Subesi</td>\n",
       "      <td>Batman</td>\n",
       "      <td>FİLİZ</td>\n",
       "      <td>3.01.2017 09:25</td>\n",
       "      <td>41,1351</td>\n",
       "      <td>37,8812</td>\n",
       "    </tr>\n",
       "  </tbody>\n",
       "</table>\n",
       "</div>"
      ],
      "text/plain": [
       "  LOGICALREF  ITEMCODE                         ITEMNAME AMOUNT PRICE  \\\n",
       "0          1         8                        TOZ SEKER     45  2,65   \n",
       "1          2     20868                 KIRMIZI MERCIMEK  1,006   2,8   \n",
       "2          3      8583         TEST MATIK 1,5 KG NORMAL      1  4,95   \n",
       "3          4      1454             BIZIM MAKARNA BONCUK      1   1,1   \n",
       "4          5     13519  FILIZ MAKARNA KISA KESME 500 GR      1   1,1   \n",
       "\n",
       "  LINENETTOTAL         BRANCH    CITY     BRAND        STARTDATE LONGITUDE  \\\n",
       "0          5,3  Batman Subesi  Batman      None  3.01.2017 09:25   41,1351   \n",
       "1         2,82  Batman Subesi  Batman  BAKLİYAT  3.01.2017 09:25   41,1351   \n",
       "2         4,95  Batman Subesi  Batman      TEST  3.01.2017 09:25   41,1351   \n",
       "3          1,1  Batman Subesi  Batman     ÜLKER  3.01.2017 09:25   41,1351   \n",
       "4          1,1  Batman Subesi  Batman     FİLİZ  3.01.2017 09:25   41,1351   \n",
       "\n",
       "  LATITUDE  \n",
       "0  37,8812  \n",
       "1  37,8812  \n",
       "2  37,8812  \n",
       "3  37,8812  \n",
       "4  37,8812  "
      ]
     },
     "execution_count": 7,
     "metadata": {},
     "output_type": "execute_result"
    }
   ],
   "source": [
    "df.limit(5).toPandas()"
   ]
  },
  {
   "cell_type": "code",
   "execution_count": 8,
   "id": "ab54edf8-8d0a-4a3c-b56b-17eefdfb1b7b",
   "metadata": {
    "tags": []
   },
   "outputs": [
    {
     "name": "stderr",
     "output_type": "stream",
     "text": [
      "                                                                                \r"
     ]
    },
    {
     "data": {
      "text/plain": [
       "999853"
      ]
     },
     "execution_count": 8,
     "metadata": {},
     "output_type": "execute_result"
    }
   ],
   "source": [
    "df.count()"
   ]
  },
  {
   "cell_type": "code",
   "execution_count": 9,
   "id": "8b10c866-a99b-4a30-aedd-0785f8526b7e",
   "metadata": {
    "tags": []
   },
   "outputs": [],
   "source": [
    "df1 = df.na.drop()"
   ]
  },
  {
   "cell_type": "code",
   "execution_count": 10,
   "id": "bfdeb6f4-3598-4e6b-9012-22ce3c503e1e",
   "metadata": {
    "tags": []
   },
   "outputs": [
    {
     "name": "stderr",
     "output_type": "stream",
     "text": [
      "                                                                                \r"
     ]
    },
    {
     "data": {
      "text/plain": [
       "942431"
      ]
     },
     "execution_count": 10,
     "metadata": {},
     "output_type": "execute_result"
    }
   ],
   "source": [
    "df1.count()"
   ]
  },
  {
   "cell_type": "code",
   "execution_count": 11,
   "id": "4841a408-e521-4de7-86d5-921c1c3fe056",
   "metadata": {
    "tags": []
   },
   "outputs": [
    {
     "name": "stdout",
     "output_type": "stream",
     "text": [
      "root\n",
      " |-- LOGICALREF: string (nullable = true)\n",
      " |-- ITEMCODE: integer (nullable = true)\n",
      " |-- ITEMNAME: string (nullable = true)\n",
      " |-- AMOUNT: string (nullable = true)\n",
      " |-- PRICE: string (nullable = true)\n",
      " |-- LINENETTOTAL: string (nullable = true)\n",
      " |-- BRANCH: string (nullable = true)\n",
      " |-- CITY: string (nullable = true)\n",
      " |-- BRAND: string (nullable = true)\n",
      " |-- STARTDATE: string (nullable = true)\n",
      " |-- LONGITUDE: string (nullable = true)\n",
      " |-- LATITUDE: string (nullable = true)\n",
      "\n"
     ]
    }
   ],
   "source": [
    "df1.printSchema()"
   ]
  },
  {
   "cell_type": "code",
   "execution_count": 13,
   "id": "3670ade0-0fee-4eb6-81e8-ec1b8bab264d",
   "metadata": {
    "tags": []
   },
   "outputs": [],
   "source": [
    "df2 = df1 \\\n",
    ".withColumn(\"LOGICALREF\", F.col(\"LOGICALREF\").cast(IntegerType())) \\\n",
    ".withColumn(\"ITEMCODE\", F.col(\"ITEMCODE\").cast(IntegerType())) \\\n",
    ".withColumn(\"AMOUNT\", F.regexp_replace(\"AMOUNT\", \",\", \".\").cast(FloatType())) \\\n",
    ".withColumn(\"PRICE\", F.regexp_replace(\"PRICE\", \",\", \".\").cast(FloatType())) \\\n",
    ".withColumn(\"LINENETTOTAL\", F.regexp_replace(\"LINENETTOTAL\", \",\", \".\").cast(FloatType())) \\\n",
    ".withColumn(\"STARTDATE\",  F.unix_timestamp( F.to_timestamp(F.col(\"STARTDATE\"), \"d.MM.yyyy HH:mm\")) * 1000 ) \\\n",
    ".withColumn(\"LONGITUDE\", F.regexp_replace(\"LONGITUDE\", \",\", \".\").substr(1, 6).cast(FloatType())) \\\n",
    ".withColumn(\"LATITUDE\", F.regexp_replace(\"LATITUDE\", \",\", \".\").substr(1, 6).cast(FloatType())) \\\n",
    ".withColumn(\"LOCATION\", F.array(  F.col(\"LONGITUDE\"), F.col(\"LATITUDE\"))) \\\n",
    "                         .filter(\"LONGITUDE < 100\") # filter wrong longitude"
   ]
  },
  {
   "cell_type": "code",
   "execution_count": 15,
   "id": "744ac1cf-0ab8-4e65-bd6b-08c109bb48b0",
   "metadata": {
    "tags": []
   },
   "outputs": [
    {
     "data": {
      "text/html": [
       "<div>\n",
       "<style scoped>\n",
       "    .dataframe tbody tr th:only-of-type {\n",
       "        vertical-align: middle;\n",
       "    }\n",
       "\n",
       "    .dataframe tbody tr th {\n",
       "        vertical-align: top;\n",
       "    }\n",
       "\n",
       "    .dataframe thead th {\n",
       "        text-align: right;\n",
       "    }\n",
       "</style>\n",
       "<table border=\"1\" class=\"dataframe\">\n",
       "  <thead>\n",
       "    <tr style=\"text-align: right;\">\n",
       "      <th></th>\n",
       "      <th>LOGICALREF</th>\n",
       "      <th>ITEMCODE</th>\n",
       "      <th>ITEMNAME</th>\n",
       "      <th>AMOUNT</th>\n",
       "      <th>PRICE</th>\n",
       "      <th>LINENETTOTAL</th>\n",
       "      <th>BRANCH</th>\n",
       "      <th>CITY</th>\n",
       "      <th>BRAND</th>\n",
       "      <th>STARTDATE</th>\n",
       "      <th>LONGITUDE</th>\n",
       "      <th>LATITUDE</th>\n",
       "      <th>LOCATION</th>\n",
       "    </tr>\n",
       "  </thead>\n",
       "  <tbody>\n",
       "    <tr>\n",
       "      <th>0</th>\n",
       "      <td>2</td>\n",
       "      <td>20868</td>\n",
       "      <td>KIRMIZI MERCIMEK</td>\n",
       "      <td>1.006</td>\n",
       "      <td>2.80</td>\n",
       "      <td>2.82</td>\n",
       "      <td>Batman Subesi</td>\n",
       "      <td>Batman</td>\n",
       "      <td>BAKLİYAT</td>\n",
       "      <td>1483424700000</td>\n",
       "      <td>41.134998</td>\n",
       "      <td>37.881001</td>\n",
       "      <td>[41.1349983215332, 37.88100051879883]</td>\n",
       "    </tr>\n",
       "    <tr>\n",
       "      <th>1</th>\n",
       "      <td>3</td>\n",
       "      <td>8583</td>\n",
       "      <td>TEST MATIK 1,5 KG NORMAL</td>\n",
       "      <td>1.000</td>\n",
       "      <td>4.95</td>\n",
       "      <td>4.95</td>\n",
       "      <td>Batman Subesi</td>\n",
       "      <td>Batman</td>\n",
       "      <td>TEST</td>\n",
       "      <td>1483424700000</td>\n",
       "      <td>41.134998</td>\n",
       "      <td>37.881001</td>\n",
       "      <td>[41.1349983215332, 37.88100051879883]</td>\n",
       "    </tr>\n",
       "    <tr>\n",
       "      <th>2</th>\n",
       "      <td>4</td>\n",
       "      <td>1454</td>\n",
       "      <td>BIZIM MAKARNA BONCUK</td>\n",
       "      <td>1.000</td>\n",
       "      <td>1.10</td>\n",
       "      <td>1.10</td>\n",
       "      <td>Batman Subesi</td>\n",
       "      <td>Batman</td>\n",
       "      <td>ÜLKER</td>\n",
       "      <td>1483424700000</td>\n",
       "      <td>41.134998</td>\n",
       "      <td>37.881001</td>\n",
       "      <td>[41.1349983215332, 37.88100051879883]</td>\n",
       "    </tr>\n",
       "    <tr>\n",
       "      <th>3</th>\n",
       "      <td>5</td>\n",
       "      <td>13519</td>\n",
       "      <td>FILIZ MAKARNA KISA KESME 500 GR</td>\n",
       "      <td>1.000</td>\n",
       "      <td>1.10</td>\n",
       "      <td>1.10</td>\n",
       "      <td>Batman Subesi</td>\n",
       "      <td>Batman</td>\n",
       "      <td>FİLİZ</td>\n",
       "      <td>1483424700000</td>\n",
       "      <td>41.134998</td>\n",
       "      <td>37.881001</td>\n",
       "      <td>[41.1349983215332, 37.88100051879883]</td>\n",
       "    </tr>\n",
       "    <tr>\n",
       "      <th>4</th>\n",
       "      <td>6</td>\n",
       "      <td>8639</td>\n",
       "      <td>BINGO ULTRA CAM.SUYU 750 ML KLASIK</td>\n",
       "      <td>1.000</td>\n",
       "      <td>2.45</td>\n",
       "      <td>2.45</td>\n",
       "      <td>Batman Subesi</td>\n",
       "      <td>Batman</td>\n",
       "      <td>BİNGO</td>\n",
       "      <td>1483424700000</td>\n",
       "      <td>41.134998</td>\n",
       "      <td>37.881001</td>\n",
       "      <td>[41.1349983215332, 37.88100051879883]</td>\n",
       "    </tr>\n",
       "  </tbody>\n",
       "</table>\n",
       "</div>"
      ],
      "text/plain": [
       "   LOGICALREF  ITEMCODE                            ITEMNAME  AMOUNT  PRICE  \\\n",
       "0           2     20868                    KIRMIZI MERCIMEK   1.006   2.80   \n",
       "1           3      8583            TEST MATIK 1,5 KG NORMAL   1.000   4.95   \n",
       "2           4      1454                BIZIM MAKARNA BONCUK   1.000   1.10   \n",
       "3           5     13519     FILIZ MAKARNA KISA KESME 500 GR   1.000   1.10   \n",
       "4           6      8639  BINGO ULTRA CAM.SUYU 750 ML KLASIK   1.000   2.45   \n",
       "\n",
       "   LINENETTOTAL         BRANCH    CITY     BRAND      STARTDATE  LONGITUDE  \\\n",
       "0          2.82  Batman Subesi  Batman  BAKLİYAT  1483424700000  41.134998   \n",
       "1          4.95  Batman Subesi  Batman      TEST  1483424700000  41.134998   \n",
       "2          1.10  Batman Subesi  Batman     ÜLKER  1483424700000  41.134998   \n",
       "3          1.10  Batman Subesi  Batman     FİLİZ  1483424700000  41.134998   \n",
       "4          2.45  Batman Subesi  Batman     BİNGO  1483424700000  41.134998   \n",
       "\n",
       "    LATITUDE                               LOCATION  \n",
       "0  37.881001  [41.1349983215332, 37.88100051879883]  \n",
       "1  37.881001  [41.1349983215332, 37.88100051879883]  \n",
       "2  37.881001  [41.1349983215332, 37.88100051879883]  \n",
       "3  37.881001  [41.1349983215332, 37.88100051879883]  \n",
       "4  37.881001  [41.1349983215332, 37.88100051879883]  "
      ]
     },
     "execution_count": 15,
     "metadata": {},
     "output_type": "execute_result"
    }
   ],
   "source": [
    "df2.limit(5).toPandas()"
   ]
  },
  {
   "cell_type": "code",
   "execution_count": 16,
   "id": "d6444eff-bbfd-4c0d-96ee-9eed241070db",
   "metadata": {
    "tags": []
   },
   "outputs": [
    {
     "name": "stdout",
     "output_type": "stream",
     "text": [
      "root\n",
      " |-- LOGICALREF: integer (nullable = true)\n",
      " |-- ITEMCODE: integer (nullable = true)\n",
      " |-- ITEMNAME: string (nullable = true)\n",
      " |-- AMOUNT: float (nullable = true)\n",
      " |-- PRICE: float (nullable = true)\n",
      " |-- LINENETTOTAL: float (nullable = true)\n",
      " |-- BRANCH: string (nullable = true)\n",
      " |-- CITY: string (nullable = true)\n",
      " |-- BRAND: string (nullable = true)\n",
      " |-- STARTDATE: long (nullable = true)\n",
      " |-- LONGITUDE: float (nullable = true)\n",
      " |-- LATITUDE: float (nullable = true)\n",
      " |-- LOCATION: array (nullable = false)\n",
      " |    |-- element: float (containsNull = true)\n",
      "\n"
     ]
    }
   ],
   "source": [
    "df2.printSchema()"
   ]
  },
  {
   "cell_type": "markdown",
   "id": "235dbc03-e5f7-4025-a954-6d2ed5fb09a0",
   "metadata": {
    "tags": []
   },
   "source": [
    "### 4. Elasticsearch"
   ]
  },
  {
   "cell_type": "code",
   "execution_count": 17,
   "id": "dc136250-df2f-4b13-b7a5-aae8d97eab90",
   "metadata": {
    "tags": []
   },
   "outputs": [],
   "source": [
    "market_index =  {\n",
    "  \"settings\": {\n",
    "    \"index\": {\n",
    "      \"analysis\": {\n",
    "        \"analyzer\": {\n",
    "          \"custom_analyzer\":\n",
    "          {\n",
    "            \"type\":\"custom\",\n",
    "            \"tokenizer\":\"standard\",\n",
    "            \"filter\":[\n",
    "              \"lowercase\", \"custom_edge_ngram\"\n",
    "            ]\n",
    "          }\n",
    "        },\n",
    "        \"filter\": {\n",
    "          \"custom_edge_ngram\": {\n",
    "            \"type\": \"edge_ngram\",\n",
    "            \"min_gram\":2,\n",
    "            \"max_gram\": 10\n",
    "            }\n",
    "          }\n",
    "        }\n",
    "      }\n",
    "    },\n",
    "    \"mappings\": {\n",
    "    \"properties\": {\n",
    "      \"LOGICALREF\":  {\"type\": \"integer\"},  \n",
    "      \"ITEMCODE\":    {\"type\": \"integer\" }, \n",
    "      \"ITEMNAME\":    {\"type\": \"text\"},\n",
    "      \"AMOUNT\":      {\"type\": \"float\"},\n",
    "      \"PRICE\":       {\"type\": \"float\"},\n",
    "      \"LINENETTOTAL\":{\"type\": \"float\"},\n",
    "      \"BRANCH\":      {\"type\": \"keyword\"},\n",
    "      \"CITY\":        {\"type\": \"keyword\"},\n",
    "      \"BRAND\":       {\"type\": \"keyword\"},\n",
    "      \"STARTDATE\":   {\"type\": \"date\"},\n",
    "      \"LOCATION\":    {\"type\": \"geo_point\"}\n",
    "        \n",
    "    }\n",
    "  }\n",
    "  }"
   ]
  },
  {
   "cell_type": "code",
   "execution_count": 18,
   "id": "b7cc82cd-dc16-45cd-9f15-b33745787341",
   "metadata": {
    "tags": []
   },
   "outputs": [],
   "source": [
    "es = Elasticsearch()"
   ]
  },
  {
   "cell_type": "code",
   "execution_count": 19,
   "id": "a3645d37-d09f-4bde-9c2c-e53df97f2cb1",
   "metadata": {
    "tags": []
   },
   "outputs": [
    {
     "name": "stdout",
     "output_type": "stream",
     "text": [
      "market_index index deleted.\n"
     ]
    }
   ],
   "source": [
    "try:\n",
    "    es.indices.delete(\"market_index\")\n",
    "    print(\"market_index index deleted.\")\n",
    "except:\n",
    "    print(\"No index\")"
   ]
  },
  {
   "cell_type": "code",
   "execution_count": 21,
   "id": "4e7b5920-f910-4f62-a730-644ee16d0a0a",
   "metadata": {
    "tags": []
   },
   "outputs": [
    {
     "data": {
      "text/plain": [
       "{'acknowledged': True, 'shards_acknowledged': True, 'index': 'market_index'}"
      ]
     },
     "execution_count": 21,
     "metadata": {},
     "output_type": "execute_result"
    }
   ],
   "source": [
    "es.indices.create(\"market_index\", body=market_index)"
   ]
  },
  {
   "cell_type": "markdown",
   "id": "b5fd15a8-51b8-4fb2-9a24-1b3c7040989f",
   "metadata": {
    "tags": []
   },
   "source": [
    "### 5. Write to Elasticsearch"
   ]
  },
  {
   "cell_type": "code",
   "execution_count": 22,
   "id": "c5b5135e-de7a-462a-899a-5715af4b8df0",
   "metadata": {
    "tags": []
   },
   "outputs": [
    {
     "name": "stderr",
     "output_type": "stream",
     "text": [
      "2023-04-25 09:23:43,773 WARN util.package: Truncated the string representation of a plan since it was too large. This behavior can be adjusted by setting 'spark.sql.debug.maxToStringFields'.\n",
      "[Stage 9:=======================================>                   (2 + 1) / 3]\r"
     ]
    },
    {
     "name": "stdout",
     "output_type": "stream",
     "text": [
      "----- 59.714521408081055 secs -----\n"
     ]
    },
    {
     "name": "stderr",
     "output_type": "stream",
     "text": [
      "                                                                                \r"
     ]
    }
   ],
   "source": [
    "start_time = time.time()\n",
    "\n",
    "df2.drop(\"LONGITUDE\",\"LATITUDE\").write \\\n",
    "    .format(\"org.elasticsearch.spark.sql\") \\\n",
    "    .mode(\"overwrite\") \\\n",
    "    .option(\"es.nodes\", \"localhost\") \\\n",
    "    .option(\"es.port\",\"9200\") \\\n",
    "    .save(\"market_index\")\n",
    "\n",
    "\n",
    "print(\"----- %s secs -----\" %(time.time() - start_time))"
   ]
  },
  {
   "cell_type": "markdown",
   "id": "a9641ce9-e6e1-4832-925e-52b496ee7116",
   "metadata": {
    "tags": []
   },
   "source": [
    "### 6. Read to Elasticsearch"
   ]
  },
  {
   "cell_type": "code",
   "execution_count": 35,
   "id": "75a2c67b-ea85-45e1-8791-fe39f9d9e55c",
   "metadata": {
    "tags": []
   },
   "outputs": [],
   "source": [
    "df_elastic = spark.read \\\n",
    "                  .format(\"org.elasticsearch.spark.sql\") \\\n",
    "                  .option(\"es.nodes\", \"localhost\") \\\n",
    "                  .option(\"es.port\",\"9200\") \\\n",
    "                  .load(\"market_index\")"
   ]
  },
  {
   "cell_type": "code",
   "execution_count": 36,
   "id": "238f717a-9237-431d-8960-cf713d9de9b2",
   "metadata": {
    "tags": []
   },
   "outputs": [
    {
     "data": {
      "text/html": [
       "<div>\n",
       "<style scoped>\n",
       "    .dataframe tbody tr th:only-of-type {\n",
       "        vertical-align: middle;\n",
       "    }\n",
       "\n",
       "    .dataframe tbody tr th {\n",
       "        vertical-align: top;\n",
       "    }\n",
       "\n",
       "    .dataframe thead th {\n",
       "        text-align: right;\n",
       "    }\n",
       "</style>\n",
       "<table border=\"1\" class=\"dataframe\">\n",
       "  <thead>\n",
       "    <tr style=\"text-align: right;\">\n",
       "      <th></th>\n",
       "      <th>AMOUNT</th>\n",
       "      <th>BRANCH</th>\n",
       "      <th>BRAND</th>\n",
       "      <th>CITY</th>\n",
       "      <th>ITEMCODE</th>\n",
       "      <th>ITEMNAME</th>\n",
       "      <th>LINENETTOTAL</th>\n",
       "      <th>LOCATION</th>\n",
       "      <th>LOGICALREF</th>\n",
       "      <th>PRICE</th>\n",
       "      <th>STARTDATE</th>\n",
       "    </tr>\n",
       "  </thead>\n",
       "  <tbody>\n",
       "    <tr>\n",
       "      <th>0</th>\n",
       "      <td>1.635</td>\n",
       "      <td>İzmir Subesi</td>\n",
       "      <td>HAL</td>\n",
       "      <td>İzmir</td>\n",
       "      <td>5705</td>\n",
       "      <td>DOLMALIK BIBER</td>\n",
       "      <td>9.16</td>\n",
       "      <td>[27.128, 38.418]</td>\n",
       "      <td>500465</td>\n",
       "      <td>5.60</td>\n",
       "      <td>2017-03-17 20:42:00</td>\n",
       "    </tr>\n",
       "    <tr>\n",
       "      <th>1</th>\n",
       "      <td>0.690</td>\n",
       "      <td>İzmir Subesi</td>\n",
       "      <td>HAL</td>\n",
       "      <td>İzmir</td>\n",
       "      <td>5694</td>\n",
       "      <td>DOMATES</td>\n",
       "      <td>1.31</td>\n",
       "      <td>[27.128, 38.418]</td>\n",
       "      <td>500466</td>\n",
       "      <td>1.90</td>\n",
       "      <td>2017-03-17 20:42:00</td>\n",
       "    </tr>\n",
       "    <tr>\n",
       "      <th>2</th>\n",
       "      <td>1.000</td>\n",
       "      <td>İstanbul Subesi</td>\n",
       "      <td>ÜLKER</td>\n",
       "      <td>İstanbul</td>\n",
       "      <td>20512</td>\n",
       "      <td>CAFE CROWN 2 U 1 FINDIKLI</td>\n",
       "      <td>0.35</td>\n",
       "      <td>[28.977, 41.005]</td>\n",
       "      <td>23077</td>\n",
       "      <td>0.35</td>\n",
       "      <td>2017-01-09 16:03:00</td>\n",
       "    </tr>\n",
       "    <tr>\n",
       "      <th>3</th>\n",
       "      <td>1.000</td>\n",
       "      <td>İstanbul Subesi</td>\n",
       "      <td>ÜLKER</td>\n",
       "      <td>İstanbul</td>\n",
       "      <td>20512</td>\n",
       "      <td>CAFE CROWN 2 U 1 FINDIKLI</td>\n",
       "      <td>0.35</td>\n",
       "      <td>[28.977, 41.005]</td>\n",
       "      <td>23078</td>\n",
       "      <td>0.35</td>\n",
       "      <td>2017-01-09 16:03:00</td>\n",
       "    </tr>\n",
       "    <tr>\n",
       "      <th>4</th>\n",
       "      <td>1.575</td>\n",
       "      <td>İzmir Subesi</td>\n",
       "      <td>HAL</td>\n",
       "      <td>İzmir</td>\n",
       "      <td>5699</td>\n",
       "      <td>KABAK</td>\n",
       "      <td>3.07</td>\n",
       "      <td>[27.128, 38.418]</td>\n",
       "      <td>500468</td>\n",
       "      <td>1.95</td>\n",
       "      <td>2017-03-17 20:42:00</td>\n",
       "    </tr>\n",
       "  </tbody>\n",
       "</table>\n",
       "</div>"
      ],
      "text/plain": [
       "   AMOUNT           BRANCH  BRAND      CITY  ITEMCODE  \\\n",
       "0   1.635     İzmir Subesi    HAL     İzmir      5705   \n",
       "1   0.690     İzmir Subesi    HAL     İzmir      5694   \n",
       "2   1.000  İstanbul Subesi  ÜLKER  İstanbul     20512   \n",
       "3   1.000  İstanbul Subesi  ÜLKER  İstanbul     20512   \n",
       "4   1.575     İzmir Subesi    HAL     İzmir      5699   \n",
       "\n",
       "                    ITEMNAME  LINENETTOTAL          LOCATION  LOGICALREF  \\\n",
       "0             DOLMALIK BIBER          9.16  [27.128, 38.418]      500465   \n",
       "1                    DOMATES          1.31  [27.128, 38.418]      500466   \n",
       "2  CAFE CROWN 2 U 1 FINDIKLI          0.35  [28.977, 41.005]       23077   \n",
       "3  CAFE CROWN 2 U 1 FINDIKLI          0.35  [28.977, 41.005]       23078   \n",
       "4                      KABAK          3.07  [27.128, 38.418]      500468   \n",
       "\n",
       "   PRICE           STARTDATE  \n",
       "0   5.60 2017-03-17 20:42:00  \n",
       "1   1.90 2017-03-17 20:42:00  \n",
       "2   0.35 2017-01-09 16:03:00  \n",
       "3   0.35 2017-01-09 16:03:00  \n",
       "4   1.95 2017-03-17 20:42:00  "
      ]
     },
     "execution_count": 36,
     "metadata": {},
     "output_type": "execute_result"
    }
   ],
   "source": [
    "df_elastic.limit(5).toPandas()"
   ]
  },
  {
   "cell_type": "code",
   "execution_count": 26,
   "id": "fda87935-f605-450e-b08e-7de9286026ec",
   "metadata": {
    "tags": []
   },
   "outputs": [
    {
     "name": "stderr",
     "output_type": "stream",
     "text": [
      "[Stage 11:>                                                         (0 + 1) / 1]\r"
     ]
    },
    {
     "name": "stdout",
     "output_type": "stream",
     "text": [
      "+-------------------+-------------------+\n",
      "|     min(STARTDATE)|     max(STARTDATE)|\n",
      "+-------------------+-------------------+\n",
      "|2017-01-03 09:25:00|2017-05-25 21:00:00|\n",
      "+-------------------+-------------------+\n",
      "\n"
     ]
    },
    {
     "name": "stderr",
     "output_type": "stream",
     "text": [
      "                                                                                \r"
     ]
    }
   ],
   "source": [
    "df_elastic.selectExpr(\"MIN(STARTDATE)\",\"MAX(STARTDATE)\").show()"
   ]
  },
  {
   "cell_type": "code",
   "execution_count": 37,
   "id": "5f253ce0-9d1d-4992-9678-44540b9edbf6",
   "metadata": {
    "tags": []
   },
   "outputs": [
    {
     "name": "stdout",
     "output_type": "stream",
     "text": [
      "root\n",
      " |-- AMOUNT: float (nullable = true)\n",
      " |-- BRANCH: string (nullable = true)\n",
      " |-- BRAND: string (nullable = true)\n",
      " |-- CITY: string (nullable = true)\n",
      " |-- ITEMCODE: integer (nullable = true)\n",
      " |-- ITEMNAME: string (nullable = true)\n",
      " |-- LINENETTOTAL: float (nullable = true)\n",
      " |-- LOCATION: array (nullable = true)\n",
      " |    |-- element: double (containsNull = true)\n",
      " |-- LOGICALREF: integer (nullable = true)\n",
      " |-- PRICE: float (nullable = true)\n",
      " |-- STARTDATE: timestamp (nullable = true)\n",
      "\n"
     ]
    }
   ],
   "source": [
    "df_elastic.printSchema()"
   ]
  },
  {
   "cell_type": "code",
   "execution_count": 38,
   "id": "134aecd8-6755-44f2-83db-9996713f8bc0",
   "metadata": {
    "tags": []
   },
   "outputs": [
    {
     "name": "stderr",
     "output_type": "stream",
     "text": [
      "                                                                                \r"
     ]
    },
    {
     "data": {
      "text/plain": [
       "936156"
      ]
     },
     "execution_count": 38,
     "metadata": {},
     "output_type": "execute_result"
    }
   ],
   "source": [
    "df_elastic.count()"
   ]
  }
 ],
 "metadata": {
  "kernelspec": {
   "display_name": "Python 3 (ipykernel)",
   "language": "python",
   "name": "python3"
  },
  "language_info": {
   "codemirror_mode": {
    "name": "ipython",
    "version": 3
   },
   "file_extension": ".py",
   "mimetype": "text/x-python",
   "name": "python",
   "nbconvert_exporter": "python",
   "pygments_lexer": "ipython3",
   "version": "3.8.12"
  }
 },
 "nbformat": 4,
 "nbformat_minor": 5
}
